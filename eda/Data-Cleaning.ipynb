{
 "cells": [
  {
   "cell_type": "markdown",
   "metadata": {},
   "source": [
    "# Import libraries and data"
   ]
  },
  {
   "cell_type": "code",
   "execution_count": 2,
   "metadata": {
    "ExecuteTime": {
     "end_time": "2020-08-04T19:45:54.039028Z",
     "start_time": "2020-08-04T19:45:52.226235Z"
    }
   },
   "outputs": [],
   "source": [
    "import pandas as pd\n",
    "import numpy as np"
   ]
  },
  {
   "cell_type": "code",
   "execution_count": 4,
   "metadata": {
    "ExecuteTime": {
     "end_time": "2020-08-04T19:46:23.840354Z",
     "start_time": "2020-08-04T19:46:23.684242Z"
    }
   },
   "outputs": [],
   "source": [
    "df = pd.read_csv('C:/Users/bdtol/flatiron-ds/module2/project_2/Regression-Analysis-House-Sales/csv-files/kc_house_data.csv')"
   ]
  },
  {
   "cell_type": "markdown",
   "metadata": {},
   "source": [
    "# Data cleaning"
   ]
  },
  {
   "cell_type": "markdown",
   "metadata": {},
   "source": [
    "## Check column descriptions"
   ]
  },
  {
   "cell_type": "code",
   "execution_count": 3,
   "metadata": {
    "ExecuteTime": {
     "end_time": "2020-07-27T00:37:27.130367Z",
     "start_time": "2020-07-27T00:37:27.085855Z"
    }
   },
   "outputs": [
    {
     "name": "stdout",
     "output_type": "stream",
     "text": [
      "<class 'pandas.core.frame.DataFrame'>\n",
      "RangeIndex: 21597 entries, 0 to 21596\n",
      "Data columns (total 21 columns):\n",
      "id               21597 non-null int64\n",
      "date             21597 non-null object\n",
      "price            21597 non-null float64\n",
      "bedrooms         21597 non-null int64\n",
      "bathrooms        21597 non-null float64\n",
      "sqft_living      21597 non-null int64\n",
      "sqft_lot         21597 non-null int64\n",
      "floors           21597 non-null float64\n",
      "waterfront       19221 non-null float64\n",
      "view             21534 non-null float64\n",
      "condition        21597 non-null int64\n",
      "grade            21597 non-null int64\n",
      "sqft_above       21597 non-null int64\n",
      "sqft_basement    21597 non-null object\n",
      "yr_built         21597 non-null int64\n",
      "yr_renovated     17755 non-null float64\n",
      "zipcode          21597 non-null int64\n",
      "lat              21597 non-null float64\n",
      "long             21597 non-null float64\n",
      "sqft_living15    21597 non-null int64\n",
      "sqft_lot15       21597 non-null int64\n",
      "dtypes: float64(8), int64(11), object(2)\n",
      "memory usage: 3.5+ MB\n"
     ]
    }
   ],
   "source": [
    "df.info()"
   ]
  },
  {
   "cell_type": "code",
   "execution_count": 4,
   "metadata": {
    "ExecuteTime": {
     "end_time": "2020-07-27T00:37:27.172179Z",
     "start_time": "2020-07-27T00:37:27.131502Z"
    }
   },
   "outputs": [
    {
     "data": {
      "text/plain": [
       "id                  0\n",
       "date                0\n",
       "price               0\n",
       "bedrooms            0\n",
       "bathrooms           0\n",
       "sqft_living         0\n",
       "sqft_lot            0\n",
       "floors              0\n",
       "waterfront       2376\n",
       "view               63\n",
       "condition           0\n",
       "grade               0\n",
       "sqft_above          0\n",
       "sqft_basement       0\n",
       "yr_built            0\n",
       "yr_renovated     3842\n",
       "zipcode             0\n",
       "lat                 0\n",
       "long                0\n",
       "sqft_living15       0\n",
       "sqft_lot15          0\n",
       "dtype: int64"
      ]
     },
     "execution_count": 4,
     "metadata": {},
     "output_type": "execute_result"
    }
   ],
   "source": [
    "df.isna().sum()"
   ]
  },
  {
   "cell_type": "code",
   "execution_count": 5,
   "metadata": {
    "ExecuteTime": {
     "end_time": "2020-07-27T00:37:27.371689Z",
     "start_time": "2020-07-27T00:37:27.172179Z"
    }
   },
   "outputs": [
    {
     "name": "stdout",
     "output_type": "stream",
     "text": [
      "id \n",
      " 795000620     0.000139\n",
      "1825069031    0.000093\n",
      "2019200220    0.000093\n",
      "7129304540    0.000093\n",
      "1781500435    0.000093\n",
      "Name: id, dtype: float64 \n",
      "\n",
      "\n",
      "date \n",
      " 6/23/2014    0.006575\n",
      "6/26/2014    0.006066\n",
      "6/25/2014    0.006066\n",
      "7/8/2014     0.005880\n",
      "4/27/2015    0.005834\n",
      "Name: date, dtype: float64 \n",
      "\n",
      "\n",
      "price \n",
      " 350000.0    0.007964\n",
      "450000.0    0.007964\n",
      "550000.0    0.007362\n",
      "500000.0    0.007038\n",
      "425000.0    0.006945\n",
      "Name: price, dtype: float64 \n",
      "\n",
      "\n",
      "bedrooms \n",
      " 3    0.454878\n",
      "4    0.318655\n",
      "2    0.127796\n",
      "5    0.074131\n",
      "6    0.012594\n",
      "Name: bedrooms, dtype: float64 \n",
      "\n",
      "\n",
      "bathrooms \n",
      " 2.50    0.248970\n",
      "1.00    0.178312\n",
      "1.75    0.141131\n",
      "2.25    0.094782\n",
      "2.00    0.089364\n",
      "Name: bathrooms, dtype: float64 \n",
      "\n",
      "\n",
      "sqft_living \n",
      " 1300    0.006390\n",
      "1400    0.006251\n",
      "1440    0.006158\n",
      "1660    0.005973\n",
      "1010    0.005973\n",
      "Name: sqft_living, dtype: float64 \n",
      "\n",
      "\n",
      "sqft_lot \n",
      " 5000    0.016576\n",
      "6000    0.013428\n",
      "4000    0.011622\n",
      "7200    0.010187\n",
      "7500    0.005510\n",
      "Name: sqft_lot, dtype: float64 \n",
      "\n",
      "\n",
      "floors \n",
      " 1.0    0.494189\n",
      "2.0    0.381303\n",
      "1.5    0.088438\n",
      "3.0    0.028291\n",
      "2.5    0.007455\n",
      "Name: floors, dtype: float64 \n",
      "\n",
      "\n",
      "waterfront \n",
      " 0.0    0.992404\n",
      "1.0    0.007596\n",
      "Name: waterfront, dtype: float64 \n",
      "\n",
      "\n",
      "view \n",
      " 0.0    0.901923\n",
      "2.0    0.044441\n",
      "3.0    0.023591\n",
      "1.0    0.015325\n",
      "4.0    0.014721\n",
      "Name: view, dtype: float64 \n",
      "\n",
      "\n",
      "condition \n",
      " 3    0.649164\n",
      "4    0.262861\n",
      "5    0.078761\n",
      "2    0.007871\n",
      "1    0.001343\n",
      "Name: condition, dtype: float64 \n",
      "\n",
      "\n",
      "grade \n",
      " 7     0.415521\n",
      "8     0.280826\n",
      "9     0.121082\n",
      "6     0.094365\n",
      "10    0.052507\n",
      "Name: grade, dtype: float64 \n",
      "\n",
      "\n",
      "sqft_above \n",
      " 1300    0.009816\n",
      "1010    0.009724\n",
      "1200    0.009538\n",
      "1220    0.008890\n",
      "1140    0.008520\n",
      "Name: sqft_above, dtype: float64 \n",
      "\n",
      "\n",
      "sqft_basement \n",
      " 0.0      0.593879\n",
      "?        0.021021\n",
      "600.0    0.010048\n",
      "500.0    0.009677\n",
      "700.0    0.009631\n",
      "Name: sqft_basement, dtype: float64 \n",
      "\n",
      "\n",
      "yr_built \n",
      " 2014    0.025883\n",
      "2006    0.020975\n",
      "2005    0.020836\n",
      "2004    0.020049\n",
      "2003    0.019447\n",
      "Name: yr_built, dtype: float64 \n",
      "\n",
      "\n",
      "yr_renovated \n",
      " 0.0       0.958096\n",
      "2014.0    0.004112\n",
      "2003.0    0.001746\n",
      "2013.0    0.001746\n",
      "2007.0    0.001690\n",
      "Name: yr_renovated, dtype: float64 \n",
      "\n",
      "\n",
      "zipcode \n",
      " 98103    0.027874\n",
      "98038    0.027272\n",
      "98115    0.026994\n",
      "98052    0.026578\n",
      "98117    0.025605\n",
      "Name: zipcode, dtype: float64 \n",
      "\n",
      "\n",
      "lat \n",
      " 47.6624    0.000787\n",
      "47.5491    0.000787\n",
      "47.5322    0.000787\n",
      "47.6846    0.000787\n",
      "47.6711    0.000741\n",
      "Name: lat, dtype: float64 \n",
      "\n",
      "\n",
      "long \n",
      " -122.290    0.005325\n",
      "-122.300    0.005140\n",
      "-122.362    0.004815\n",
      "-122.291    0.004630\n",
      "-122.372    0.004584\n",
      "Name: long, dtype: float64 \n",
      "\n",
      "\n",
      "sqft_living15 \n",
      " 1540    0.009122\n",
      "1440    0.009029\n",
      "1560    0.008890\n",
      "1500    0.008334\n",
      "1460    0.007825\n",
      "Name: sqft_living15, dtype: float64 \n",
      "\n",
      "\n",
      "sqft_lot15 \n",
      " 5000    0.019771\n",
      "4000    0.016484\n",
      "6000    0.013335\n",
      "7200    0.009724\n",
      "4800    0.006714\n",
      "Name: sqft_lot15, dtype: float64 \n",
      "\n",
      "\n"
     ]
    }
   ],
   "source": [
    "for col in df.columns:\n",
    "    print(col, '\\n', df[col].value_counts(normalize=True).head(), '\\n\\n')"
   ]
  },
  {
   "cell_type": "markdown",
   "metadata": {},
   "source": [
    "## Deal with missing data"
   ]
  },
  {
   "cell_type": "code",
   "execution_count": 6,
   "metadata": {
    "ExecuteTime": {
     "end_time": "2020-07-27T00:37:27.397640Z",
     "start_time": "2020-07-27T00:37:27.375543Z"
    }
   },
   "outputs": [],
   "source": [
    "# Drop view column as it wont be necessary for analysis \n",
    "df.drop(['view'], axis=1, inplace=True)"
   ]
  },
  {
   "cell_type": "code",
   "execution_count": 7,
   "metadata": {
    "ExecuteTime": {
     "end_time": "2020-07-27T00:37:27.572647Z",
     "start_time": "2020-07-27T00:37:27.404168Z"
    }
   },
   "outputs": [],
   "source": [
    "# fill missing waterfront values with either 0 or 1 based on probability\n",
    "df['waterfront'].fillna('?', inplace=True)\n",
    "\n",
    "wf_prob = [0.0992434, 0.007566]\n",
    "prob = [i/sum(wf_prob) for i in wf_prob]\n",
    "\n",
    "def impute_waterfront(value):\n",
    "    if value == '?':\n",
    "        return np.random.choice([0.0, 1.0], p = prob)\n",
    "    else:\n",
    "        return value\n",
    "    \n",
    "df.waterfront = df.waterfront.map(lambda x: impute_waterfront(x))"
   ]
  },
  {
   "cell_type": "code",
   "execution_count": 8,
   "metadata": {
    "ExecuteTime": {
     "end_time": "2020-07-27T00:37:27.610879Z",
     "start_time": "2020-07-27T00:37:27.574740Z"
    }
   },
   "outputs": [],
   "source": [
    "# Won't be using year renovated for my analyses\n",
    "df.drop(['yr_renovated'], axis = 1, inplace=True)"
   ]
  },
  {
   "cell_type": "code",
   "execution_count": 9,
   "metadata": {
    "ExecuteTime": {
     "end_time": "2020-07-27T00:37:27.649689Z",
     "start_time": "2020-07-27T00:37:27.614510Z"
    }
   },
   "outputs": [],
   "source": [
    "# convert date column to datetime catagory\n",
    "df['date'] = pd.to_datetime(df.date, format='%m/%d/%Y')"
   ]
  },
  {
   "cell_type": "code",
   "execution_count": 10,
   "metadata": {
    "ExecuteTime": {
     "end_time": "2020-07-27T00:37:27.697331Z",
     "start_time": "2020-07-27T00:37:27.649689Z"
    }
   },
   "outputs": [],
   "source": [
    "# create list of available values for sqft_basement\n",
    "numbers=[]\n",
    "for value in df['sqft_basement']:\n",
    "    if value != '?':\n",
    "          numbers.append(float(value))"
   ]
  },
  {
   "cell_type": "code",
   "execution_count": 11,
   "metadata": {
    "ExecuteTime": {
     "end_time": "2020-07-27T00:37:27.730924Z",
     "start_time": "2020-07-27T00:37:27.702854Z"
    }
   },
   "outputs": [],
   "source": [
    "# find median and replace missing values it \n",
    "from statistics import median\n",
    "df['sqft_basement'] = df['sqft_basement'].replace(['?'],median(numbers))"
   ]
  },
  {
   "cell_type": "code",
   "execution_count": 12,
   "metadata": {
    "ExecuteTime": {
     "end_time": "2020-07-27T00:37:27.759178Z",
     "start_time": "2020-07-27T00:37:27.731986Z"
    }
   },
   "outputs": [],
   "source": [
    "# change values to floats\n",
    "df['sqft_basement'] = df['sqft_basement'].astype('float')"
   ]
  },
  {
   "cell_type": "markdown",
   "metadata": {},
   "source": [
    "# Export data"
   ]
  },
  {
   "cell_type": "code",
   "execution_count": 13,
   "metadata": {
    "ExecuteTime": {
     "end_time": "2020-07-27T00:37:27.863252Z",
     "start_time": "2020-07-27T00:37:27.762480Z"
    }
   },
   "outputs": [
    {
     "data": {
      "text/html": [
       "<div>\n",
       "<style scoped>\n",
       "    .dataframe tbody tr th:only-of-type {\n",
       "        vertical-align: middle;\n",
       "    }\n",
       "\n",
       "    .dataframe tbody tr th {\n",
       "        vertical-align: top;\n",
       "    }\n",
       "\n",
       "    .dataframe thead th {\n",
       "        text-align: right;\n",
       "    }\n",
       "</style>\n",
       "<table border=\"1\" class=\"dataframe\">\n",
       "  <thead>\n",
       "    <tr style=\"text-align: right;\">\n",
       "      <th></th>\n",
       "      <th>date</th>\n",
       "      <th>price</th>\n",
       "      <th>bedrooms</th>\n",
       "      <th>bathrooms</th>\n",
       "      <th>sqft_living</th>\n",
       "      <th>sqft_lot</th>\n",
       "      <th>floors</th>\n",
       "      <th>waterfront</th>\n",
       "      <th>condition</th>\n",
       "      <th>grade</th>\n",
       "      <th>sqft_above</th>\n",
       "      <th>sqft_basement</th>\n",
       "      <th>yr_built</th>\n",
       "      <th>zipcode</th>\n",
       "      <th>lat</th>\n",
       "      <th>long</th>\n",
       "      <th>sqft_living15</th>\n",
       "      <th>sqft_lot15</th>\n",
       "    </tr>\n",
       "    <tr>\n",
       "      <th>id</th>\n",
       "      <th></th>\n",
       "      <th></th>\n",
       "      <th></th>\n",
       "      <th></th>\n",
       "      <th></th>\n",
       "      <th></th>\n",
       "      <th></th>\n",
       "      <th></th>\n",
       "      <th></th>\n",
       "      <th></th>\n",
       "      <th></th>\n",
       "      <th></th>\n",
       "      <th></th>\n",
       "      <th></th>\n",
       "      <th></th>\n",
       "      <th></th>\n",
       "      <th></th>\n",
       "      <th></th>\n",
       "    </tr>\n",
       "  </thead>\n",
       "  <tbody>\n",
       "    <tr>\n",
       "      <td>7129300520</td>\n",
       "      <td>2014-10-13</td>\n",
       "      <td>221900.0</td>\n",
       "      <td>3</td>\n",
       "      <td>1.00</td>\n",
       "      <td>1180</td>\n",
       "      <td>5650</td>\n",
       "      <td>1.0</td>\n",
       "      <td>0.0</td>\n",
       "      <td>3</td>\n",
       "      <td>7</td>\n",
       "      <td>1180</td>\n",
       "      <td>0.0</td>\n",
       "      <td>1955</td>\n",
       "      <td>98178</td>\n",
       "      <td>47.5112</td>\n",
       "      <td>-122.257</td>\n",
       "      <td>1340</td>\n",
       "      <td>5650</td>\n",
       "    </tr>\n",
       "    <tr>\n",
       "      <td>6414100192</td>\n",
       "      <td>2014-12-09</td>\n",
       "      <td>538000.0</td>\n",
       "      <td>3</td>\n",
       "      <td>2.25</td>\n",
       "      <td>2570</td>\n",
       "      <td>7242</td>\n",
       "      <td>2.0</td>\n",
       "      <td>0.0</td>\n",
       "      <td>3</td>\n",
       "      <td>7</td>\n",
       "      <td>2170</td>\n",
       "      <td>400.0</td>\n",
       "      <td>1951</td>\n",
       "      <td>98125</td>\n",
       "      <td>47.7210</td>\n",
       "      <td>-122.319</td>\n",
       "      <td>1690</td>\n",
       "      <td>7639</td>\n",
       "    </tr>\n",
       "    <tr>\n",
       "      <td>5631500400</td>\n",
       "      <td>2015-02-25</td>\n",
       "      <td>180000.0</td>\n",
       "      <td>2</td>\n",
       "      <td>1.00</td>\n",
       "      <td>770</td>\n",
       "      <td>10000</td>\n",
       "      <td>1.0</td>\n",
       "      <td>0.0</td>\n",
       "      <td>3</td>\n",
       "      <td>6</td>\n",
       "      <td>770</td>\n",
       "      <td>0.0</td>\n",
       "      <td>1933</td>\n",
       "      <td>98028</td>\n",
       "      <td>47.7379</td>\n",
       "      <td>-122.233</td>\n",
       "      <td>2720</td>\n",
       "      <td>8062</td>\n",
       "    </tr>\n",
       "    <tr>\n",
       "      <td>2487200875</td>\n",
       "      <td>2014-12-09</td>\n",
       "      <td>604000.0</td>\n",
       "      <td>4</td>\n",
       "      <td>3.00</td>\n",
       "      <td>1960</td>\n",
       "      <td>5000</td>\n",
       "      <td>1.0</td>\n",
       "      <td>0.0</td>\n",
       "      <td>5</td>\n",
       "      <td>7</td>\n",
       "      <td>1050</td>\n",
       "      <td>910.0</td>\n",
       "      <td>1965</td>\n",
       "      <td>98136</td>\n",
       "      <td>47.5208</td>\n",
       "      <td>-122.393</td>\n",
       "      <td>1360</td>\n",
       "      <td>5000</td>\n",
       "    </tr>\n",
       "    <tr>\n",
       "      <td>1954400510</td>\n",
       "      <td>2015-02-18</td>\n",
       "      <td>510000.0</td>\n",
       "      <td>3</td>\n",
       "      <td>2.00</td>\n",
       "      <td>1680</td>\n",
       "      <td>8080</td>\n",
       "      <td>1.0</td>\n",
       "      <td>0.0</td>\n",
       "      <td>3</td>\n",
       "      <td>8</td>\n",
       "      <td>1680</td>\n",
       "      <td>0.0</td>\n",
       "      <td>1987</td>\n",
       "      <td>98074</td>\n",
       "      <td>47.6168</td>\n",
       "      <td>-122.045</td>\n",
       "      <td>1800</td>\n",
       "      <td>7503</td>\n",
       "    </tr>\n",
       "    <tr>\n",
       "      <td>...</td>\n",
       "      <td>...</td>\n",
       "      <td>...</td>\n",
       "      <td>...</td>\n",
       "      <td>...</td>\n",
       "      <td>...</td>\n",
       "      <td>...</td>\n",
       "      <td>...</td>\n",
       "      <td>...</td>\n",
       "      <td>...</td>\n",
       "      <td>...</td>\n",
       "      <td>...</td>\n",
       "      <td>...</td>\n",
       "      <td>...</td>\n",
       "      <td>...</td>\n",
       "      <td>...</td>\n",
       "      <td>...</td>\n",
       "      <td>...</td>\n",
       "      <td>...</td>\n",
       "    </tr>\n",
       "    <tr>\n",
       "      <td>263000018</td>\n",
       "      <td>2014-05-21</td>\n",
       "      <td>360000.0</td>\n",
       "      <td>3</td>\n",
       "      <td>2.50</td>\n",
       "      <td>1530</td>\n",
       "      <td>1131</td>\n",
       "      <td>3.0</td>\n",
       "      <td>0.0</td>\n",
       "      <td>3</td>\n",
       "      <td>8</td>\n",
       "      <td>1530</td>\n",
       "      <td>0.0</td>\n",
       "      <td>2009</td>\n",
       "      <td>98103</td>\n",
       "      <td>47.6993</td>\n",
       "      <td>-122.346</td>\n",
       "      <td>1530</td>\n",
       "      <td>1509</td>\n",
       "    </tr>\n",
       "    <tr>\n",
       "      <td>6600060120</td>\n",
       "      <td>2015-02-23</td>\n",
       "      <td>400000.0</td>\n",
       "      <td>4</td>\n",
       "      <td>2.50</td>\n",
       "      <td>2310</td>\n",
       "      <td>5813</td>\n",
       "      <td>2.0</td>\n",
       "      <td>0.0</td>\n",
       "      <td>3</td>\n",
       "      <td>8</td>\n",
       "      <td>2310</td>\n",
       "      <td>0.0</td>\n",
       "      <td>2014</td>\n",
       "      <td>98146</td>\n",
       "      <td>47.5107</td>\n",
       "      <td>-122.362</td>\n",
       "      <td>1830</td>\n",
       "      <td>7200</td>\n",
       "    </tr>\n",
       "    <tr>\n",
       "      <td>1523300141</td>\n",
       "      <td>2014-06-23</td>\n",
       "      <td>402101.0</td>\n",
       "      <td>2</td>\n",
       "      <td>0.75</td>\n",
       "      <td>1020</td>\n",
       "      <td>1350</td>\n",
       "      <td>2.0</td>\n",
       "      <td>0.0</td>\n",
       "      <td>3</td>\n",
       "      <td>7</td>\n",
       "      <td>1020</td>\n",
       "      <td>0.0</td>\n",
       "      <td>2009</td>\n",
       "      <td>98144</td>\n",
       "      <td>47.5944</td>\n",
       "      <td>-122.299</td>\n",
       "      <td>1020</td>\n",
       "      <td>2007</td>\n",
       "    </tr>\n",
       "    <tr>\n",
       "      <td>291310100</td>\n",
       "      <td>2015-01-16</td>\n",
       "      <td>400000.0</td>\n",
       "      <td>3</td>\n",
       "      <td>2.50</td>\n",
       "      <td>1600</td>\n",
       "      <td>2388</td>\n",
       "      <td>2.0</td>\n",
       "      <td>1.0</td>\n",
       "      <td>3</td>\n",
       "      <td>8</td>\n",
       "      <td>1600</td>\n",
       "      <td>0.0</td>\n",
       "      <td>2004</td>\n",
       "      <td>98027</td>\n",
       "      <td>47.5345</td>\n",
       "      <td>-122.069</td>\n",
       "      <td>1410</td>\n",
       "      <td>1287</td>\n",
       "    </tr>\n",
       "    <tr>\n",
       "      <td>1523300157</td>\n",
       "      <td>2014-10-15</td>\n",
       "      <td>325000.0</td>\n",
       "      <td>2</td>\n",
       "      <td>0.75</td>\n",
       "      <td>1020</td>\n",
       "      <td>1076</td>\n",
       "      <td>2.0</td>\n",
       "      <td>0.0</td>\n",
       "      <td>3</td>\n",
       "      <td>7</td>\n",
       "      <td>1020</td>\n",
       "      <td>0.0</td>\n",
       "      <td>2008</td>\n",
       "      <td>98144</td>\n",
       "      <td>47.5941</td>\n",
       "      <td>-122.299</td>\n",
       "      <td>1020</td>\n",
       "      <td>1357</td>\n",
       "    </tr>\n",
       "  </tbody>\n",
       "</table>\n",
       "<p>21597 rows × 18 columns</p>\n",
       "</div>"
      ],
      "text/plain": [
       "                 date     price  bedrooms  bathrooms  sqft_living  sqft_lot  \\\n",
       "id                                                                            \n",
       "7129300520 2014-10-13  221900.0         3       1.00         1180      5650   \n",
       "6414100192 2014-12-09  538000.0         3       2.25         2570      7242   \n",
       "5631500400 2015-02-25  180000.0         2       1.00          770     10000   \n",
       "2487200875 2014-12-09  604000.0         4       3.00         1960      5000   \n",
       "1954400510 2015-02-18  510000.0         3       2.00         1680      8080   \n",
       "...               ...       ...       ...        ...          ...       ...   \n",
       "263000018  2014-05-21  360000.0         3       2.50         1530      1131   \n",
       "6600060120 2015-02-23  400000.0         4       2.50         2310      5813   \n",
       "1523300141 2014-06-23  402101.0         2       0.75         1020      1350   \n",
       "291310100  2015-01-16  400000.0         3       2.50         1600      2388   \n",
       "1523300157 2014-10-15  325000.0         2       0.75         1020      1076   \n",
       "\n",
       "            floors  waterfront  condition  grade  sqft_above  sqft_basement  \\\n",
       "id                                                                            \n",
       "7129300520     1.0         0.0          3      7        1180            0.0   \n",
       "6414100192     2.0         0.0          3      7        2170          400.0   \n",
       "5631500400     1.0         0.0          3      6         770            0.0   \n",
       "2487200875     1.0         0.0          5      7        1050          910.0   \n",
       "1954400510     1.0         0.0          3      8        1680            0.0   \n",
       "...            ...         ...        ...    ...         ...            ...   \n",
       "263000018      3.0         0.0          3      8        1530            0.0   \n",
       "6600060120     2.0         0.0          3      8        2310            0.0   \n",
       "1523300141     2.0         0.0          3      7        1020            0.0   \n",
       "291310100      2.0         1.0          3      8        1600            0.0   \n",
       "1523300157     2.0         0.0          3      7        1020            0.0   \n",
       "\n",
       "            yr_built  zipcode      lat     long  sqft_living15  sqft_lot15  \n",
       "id                                                                          \n",
       "7129300520      1955    98178  47.5112 -122.257           1340        5650  \n",
       "6414100192      1951    98125  47.7210 -122.319           1690        7639  \n",
       "5631500400      1933    98028  47.7379 -122.233           2720        8062  \n",
       "2487200875      1965    98136  47.5208 -122.393           1360        5000  \n",
       "1954400510      1987    98074  47.6168 -122.045           1800        7503  \n",
       "...              ...      ...      ...      ...            ...         ...  \n",
       "263000018       2009    98103  47.6993 -122.346           1530        1509  \n",
       "6600060120      2014    98146  47.5107 -122.362           1830        7200  \n",
       "1523300141      2009    98144  47.5944 -122.299           1020        2007  \n",
       "291310100       2004    98027  47.5345 -122.069           1410        1287  \n",
       "1523300157      2008    98144  47.5941 -122.299           1020        1357  \n",
       "\n",
       "[21597 rows x 18 columns]"
      ]
     },
     "execution_count": 13,
     "metadata": {},
     "output_type": "execute_result"
    }
   ],
   "source": [
    "df.set_index('id')"
   ]
  },
  {
   "cell_type": "code",
   "execution_count": 16,
   "metadata": {
    "ExecuteTime": {
     "end_time": "2020-07-27T00:38:10.967130Z",
     "start_time": "2020-07-27T00:38:09.439012Z"
    }
   },
   "outputs": [],
   "source": [
    "df.to_csv('C:/Users/bdtol/flatiron-ds/module2/project_2/Regression-Analysis-House-Sales/csv-files/kc_house_data_clean.csv')"
   ]
  }
 ],
 "metadata": {
  "kernelspec": {
   "display_name": "Python 3",
   "language": "python",
   "name": "python3"
  },
  "language_info": {
   "codemirror_mode": {
    "name": "ipython",
    "version": 3
   },
   "file_extension": ".py",
   "mimetype": "text/x-python",
   "name": "python",
   "nbconvert_exporter": "python",
   "pygments_lexer": "ipython3",
   "version": "3.6.9"
  },
  "toc": {
   "base_numbering": 1,
   "nav_menu": {},
   "number_sections": true,
   "sideBar": true,
   "skip_h1_title": false,
   "title_cell": "Table of Contents",
   "title_sidebar": "Contents",
   "toc_cell": false,
   "toc_position": {},
   "toc_section_display": true,
   "toc_window_display": true
  },
  "varInspector": {
   "cols": {
    "lenName": 16,
    "lenType": 16,
    "lenVar": 40
   },
   "kernels_config": {
    "python": {
     "delete_cmd_postfix": "",
     "delete_cmd_prefix": "del ",
     "library": "var_list.py",
     "varRefreshCmd": "print(var_dic_list())"
    },
    "r": {
     "delete_cmd_postfix": ") ",
     "delete_cmd_prefix": "rm(",
     "library": "var_list.r",
     "varRefreshCmd": "cat(var_dic_list()) "
    }
   },
   "types_to_exclude": [
    "module",
    "function",
    "builtin_function_or_method",
    "instance",
    "_Feature"
   ],
   "window_display": false
  }
 },
 "nbformat": 4,
 "nbformat_minor": 2
}
