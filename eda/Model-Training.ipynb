{
 "cells": [
  {
   "cell_type": "markdown",
   "metadata": {},
   "source": [
    "# Baseline Model"
   ]
  },
  {
   "cell_type": "code",
   "execution_count": 1,
   "metadata": {
    "ExecuteTime": {
     "end_time": "2020-07-22T20:38:47.390857Z",
     "start_time": "2020-07-22T20:38:43.087771Z"
    }
   },
   "outputs": [],
   "source": [
    "import pandas as pd\n",
    "from statsmodels.formula.api import ols\n",
    "import seaborn as sns\n",
    "import matplotlib.pyplot as plt\n",
    "import warnings\n",
    "import numpy as np\n",
    "import statsmodels.api as sm\n",
    "warnings.filterwarnings(\"ignore\")"
   ]
  },
  {
   "cell_type": "code",
   "execution_count": 2,
   "metadata": {
    "ExecuteTime": {
     "end_time": "2020-07-22T20:38:47.533236Z",
     "start_time": "2020-07-22T20:38:47.390857Z"
    }
   },
   "outputs": [],
   "source": [
    "df = pd.read_csv('kc_house_data_clean.csv')\n",
    "pd.set_option('display.max_columns', 500)\n",
    "pd.set_option('display.max_rows', 500)"
   ]
  },
  {
   "cell_type": "code",
   "execution_count": 3,
   "metadata": {
    "ExecuteTime": {
     "end_time": "2020-07-22T20:38:47.603610Z",
     "start_time": "2020-07-22T20:38:47.537260Z"
    }
   },
   "outputs": [
    {
     "data": {
      "text/html": [
       "<div>\n",
       "<style scoped>\n",
       "    .dataframe tbody tr th:only-of-type {\n",
       "        vertical-align: middle;\n",
       "    }\n",
       "\n",
       "    .dataframe tbody tr th {\n",
       "        vertical-align: top;\n",
       "    }\n",
       "\n",
       "    .dataframe thead th {\n",
       "        text-align: right;\n",
       "    }\n",
       "</style>\n",
       "<table border=\"1\" class=\"dataframe\">\n",
       "  <thead>\n",
       "    <tr style=\"text-align: right;\">\n",
       "      <th></th>\n",
       "      <th>Unnamed: 0</th>\n",
       "      <th>id</th>\n",
       "      <th>date</th>\n",
       "      <th>price</th>\n",
       "      <th>bedrooms</th>\n",
       "      <th>bathrooms</th>\n",
       "      <th>sqft_living</th>\n",
       "      <th>sqft_lot</th>\n",
       "      <th>floors</th>\n",
       "      <th>waterfront</th>\n",
       "      <th>condition</th>\n",
       "      <th>grade</th>\n",
       "      <th>sqft_above</th>\n",
       "      <th>sqft_basement</th>\n",
       "      <th>yr_built</th>\n",
       "      <th>zipcode</th>\n",
       "      <th>lat</th>\n",
       "      <th>long</th>\n",
       "      <th>sqft_living15</th>\n",
       "      <th>sqft_lot15</th>\n",
       "    </tr>\n",
       "  </thead>\n",
       "  <tbody>\n",
       "    <tr>\n",
       "      <td>0</td>\n",
       "      <td>0</td>\n",
       "      <td>7129300520</td>\n",
       "      <td>2014-10-13</td>\n",
       "      <td>221900.0</td>\n",
       "      <td>3</td>\n",
       "      <td>1.00</td>\n",
       "      <td>1180</td>\n",
       "      <td>5650</td>\n",
       "      <td>1.0</td>\n",
       "      <td>0.0</td>\n",
       "      <td>3</td>\n",
       "      <td>7</td>\n",
       "      <td>1180</td>\n",
       "      <td>0.0</td>\n",
       "      <td>1955</td>\n",
       "      <td>98178</td>\n",
       "      <td>47.5112</td>\n",
       "      <td>-122.257</td>\n",
       "      <td>1340</td>\n",
       "      <td>5650</td>\n",
       "    </tr>\n",
       "    <tr>\n",
       "      <td>1</td>\n",
       "      <td>1</td>\n",
       "      <td>6414100192</td>\n",
       "      <td>2014-12-09</td>\n",
       "      <td>538000.0</td>\n",
       "      <td>3</td>\n",
       "      <td>2.25</td>\n",
       "      <td>2570</td>\n",
       "      <td>7242</td>\n",
       "      <td>2.0</td>\n",
       "      <td>0.0</td>\n",
       "      <td>3</td>\n",
       "      <td>7</td>\n",
       "      <td>2170</td>\n",
       "      <td>400.0</td>\n",
       "      <td>1951</td>\n",
       "      <td>98125</td>\n",
       "      <td>47.7210</td>\n",
       "      <td>-122.319</td>\n",
       "      <td>1690</td>\n",
       "      <td>7639</td>\n",
       "    </tr>\n",
       "    <tr>\n",
       "      <td>2</td>\n",
       "      <td>2</td>\n",
       "      <td>5631500400</td>\n",
       "      <td>2015-02-25</td>\n",
       "      <td>180000.0</td>\n",
       "      <td>2</td>\n",
       "      <td>1.00</td>\n",
       "      <td>770</td>\n",
       "      <td>10000</td>\n",
       "      <td>1.0</td>\n",
       "      <td>0.0</td>\n",
       "      <td>3</td>\n",
       "      <td>6</td>\n",
       "      <td>770</td>\n",
       "      <td>0.0</td>\n",
       "      <td>1933</td>\n",
       "      <td>98028</td>\n",
       "      <td>47.7379</td>\n",
       "      <td>-122.233</td>\n",
       "      <td>2720</td>\n",
       "      <td>8062</td>\n",
       "    </tr>\n",
       "    <tr>\n",
       "      <td>3</td>\n",
       "      <td>3</td>\n",
       "      <td>2487200875</td>\n",
       "      <td>2014-12-09</td>\n",
       "      <td>604000.0</td>\n",
       "      <td>4</td>\n",
       "      <td>3.00</td>\n",
       "      <td>1960</td>\n",
       "      <td>5000</td>\n",
       "      <td>1.0</td>\n",
       "      <td>0.0</td>\n",
       "      <td>5</td>\n",
       "      <td>7</td>\n",
       "      <td>1050</td>\n",
       "      <td>910.0</td>\n",
       "      <td>1965</td>\n",
       "      <td>98136</td>\n",
       "      <td>47.5208</td>\n",
       "      <td>-122.393</td>\n",
       "      <td>1360</td>\n",
       "      <td>5000</td>\n",
       "    </tr>\n",
       "    <tr>\n",
       "      <td>4</td>\n",
       "      <td>4</td>\n",
       "      <td>1954400510</td>\n",
       "      <td>2015-02-18</td>\n",
       "      <td>510000.0</td>\n",
       "      <td>3</td>\n",
       "      <td>2.00</td>\n",
       "      <td>1680</td>\n",
       "      <td>8080</td>\n",
       "      <td>1.0</td>\n",
       "      <td>0.0</td>\n",
       "      <td>3</td>\n",
       "      <td>8</td>\n",
       "      <td>1680</td>\n",
       "      <td>0.0</td>\n",
       "      <td>1987</td>\n",
       "      <td>98074</td>\n",
       "      <td>47.6168</td>\n",
       "      <td>-122.045</td>\n",
       "      <td>1800</td>\n",
       "      <td>7503</td>\n",
       "    </tr>\n",
       "  </tbody>\n",
       "</table>\n",
       "</div>"
      ],
      "text/plain": [
       "   Unnamed: 0          id        date     price  bedrooms  bathrooms  \\\n",
       "0           0  7129300520  2014-10-13  221900.0         3       1.00   \n",
       "1           1  6414100192  2014-12-09  538000.0         3       2.25   \n",
       "2           2  5631500400  2015-02-25  180000.0         2       1.00   \n",
       "3           3  2487200875  2014-12-09  604000.0         4       3.00   \n",
       "4           4  1954400510  2015-02-18  510000.0         3       2.00   \n",
       "\n",
       "   sqft_living  sqft_lot  floors  waterfront  condition  grade  sqft_above  \\\n",
       "0         1180      5650     1.0         0.0          3      7        1180   \n",
       "1         2570      7242     2.0         0.0          3      7        2170   \n",
       "2          770     10000     1.0         0.0          3      6         770   \n",
       "3         1960      5000     1.0         0.0          5      7        1050   \n",
       "4         1680      8080     1.0         0.0          3      8        1680   \n",
       "\n",
       "   sqft_basement  yr_built  zipcode      lat     long  sqft_living15  \\\n",
       "0            0.0      1955    98178  47.5112 -122.257           1340   \n",
       "1          400.0      1951    98125  47.7210 -122.319           1690   \n",
       "2            0.0      1933    98028  47.7379 -122.233           2720   \n",
       "3          910.0      1965    98136  47.5208 -122.393           1360   \n",
       "4            0.0      1987    98074  47.6168 -122.045           1800   \n",
       "\n",
       "   sqft_lot15  \n",
       "0        5650  \n",
       "1        7639  \n",
       "2        8062  \n",
       "3        5000  \n",
       "4        7503  "
      ]
     },
     "execution_count": 3,
     "metadata": {},
     "output_type": "execute_result"
    }
   ],
   "source": [
    "df.head()"
   ]
  },
  {
   "cell_type": "code",
   "execution_count": 4,
   "metadata": {
    "ExecuteTime": {
     "end_time": "2020-07-22T20:38:47.634316Z",
     "start_time": "2020-07-22T20:38:47.603610Z"
    }
   },
   "outputs": [],
   "source": [
    "df.drop(['Unnamed: 0'], axis = 1 , inplace=True)"
   ]
  },
  {
   "cell_type": "code",
   "execution_count": 5,
   "metadata": {
    "ExecuteTime": {
     "end_time": "2020-07-22T20:38:47.824543Z",
     "start_time": "2020-07-22T20:38:47.634316Z"
    }
   },
   "outputs": [
    {
     "data": {
      "text/html": [
       "<table class=\"simpletable\">\n",
       "<caption>OLS Regression Results</caption>\n",
       "<tr>\n",
       "  <th>Dep. Variable:</th>          <td>price</td>      <th>  R-squared:         </th>  <td>   0.676</td>  \n",
       "</tr>\n",
       "<tr>\n",
       "  <th>Model:</th>                   <td>OLS</td>       <th>  Adj. R-squared:    </th>  <td>   0.675</td>  \n",
       "</tr>\n",
       "<tr>\n",
       "  <th>Method:</th>             <td>Least Squares</td>  <th>  F-statistic:       </th>  <td>   2810.</td>  \n",
       "</tr>\n",
       "<tr>\n",
       "  <th>Date:</th>             <td>Wed, 22 Jul 2020</td> <th>  Prob (F-statistic):</th>   <td>  0.00</td>   \n",
       "</tr>\n",
       "<tr>\n",
       "  <th>Time:</th>                 <td>16:38:47</td>     <th>  Log-Likelihood:    </th> <td>-2.9523e+05</td>\n",
       "</tr>\n",
       "<tr>\n",
       "  <th>No. Observations:</th>      <td> 21597</td>      <th>  AIC:               </th>  <td>5.905e+05</td> \n",
       "</tr>\n",
       "<tr>\n",
       "  <th>Df Residuals:</th>          <td> 21580</td>      <th>  BIC:               </th>  <td>5.906e+05</td> \n",
       "</tr>\n",
       "<tr>\n",
       "  <th>Df Model:</th>              <td>    16</td>      <th>                     </th>      <td> </td>     \n",
       "</tr>\n",
       "<tr>\n",
       "  <th>Covariance Type:</th>      <td>nonrobust</td>    <th>                     </th>      <td> </td>     \n",
       "</tr>\n",
       "</table>\n",
       "<table class=\"simpletable\">\n",
       "<tr>\n",
       "        <td></td>           <th>coef</th>     <th>std err</th>      <th>t</th>      <th>P>|t|</th>  <th>[0.025</th>    <th>0.975]</th>  \n",
       "</tr>\n",
       "<tr>\n",
       "  <th>const</th>         <td>-2.144e+06</td> <td> 3.02e+06</td> <td>   -0.709</td> <td> 0.478</td> <td>-8.07e+06</td> <td> 3.78e+06</td>\n",
       "</tr>\n",
       "<tr>\n",
       "  <th>bedrooms</th>      <td>-4.289e+04</td> <td> 1967.504</td> <td>  -21.797</td> <td> 0.000</td> <td>-4.67e+04</td> <td> -3.9e+04</td>\n",
       "</tr>\n",
       "<tr>\n",
       "  <th>bathrooms</th>     <td>  4.67e+04</td> <td> 3367.375</td> <td>   13.869</td> <td> 0.000</td> <td> 4.01e+04</td> <td> 5.33e+04</td>\n",
       "</tr>\n",
       "<tr>\n",
       "  <th>sqft_living</th>   <td>  123.6175</td> <td>   18.785</td> <td>    6.581</td> <td> 0.000</td> <td>   86.798</td> <td>  160.437</td>\n",
       "</tr>\n",
       "<tr>\n",
       "  <th>sqft_lot</th>      <td>    0.1595</td> <td>    0.050</td> <td>    3.202</td> <td> 0.001</td> <td>    0.062</td> <td>    0.257</td>\n",
       "</tr>\n",
       "<tr>\n",
       "  <th>floors</th>        <td>  1.13e+04</td> <td> 3739.250</td> <td>    3.022</td> <td> 0.003</td> <td> 3970.688</td> <td> 1.86e+04</td>\n",
       "</tr>\n",
       "<tr>\n",
       "  <th>waterfront</th>    <td> 3.859e+05</td> <td> 1.23e+04</td> <td>   31.384</td> <td> 0.000</td> <td> 3.62e+05</td> <td>  4.1e+05</td>\n",
       "</tr>\n",
       "<tr>\n",
       "  <th>condition</th>     <td> 2.612e+04</td> <td> 2410.463</td> <td>   10.835</td> <td> 0.000</td> <td> 2.14e+04</td> <td> 3.08e+04</td>\n",
       "</tr>\n",
       "<tr>\n",
       "  <th>grade</th>         <td> 1.024e+05</td> <td> 2237.652</td> <td>   45.776</td> <td> 0.000</td> <td>  9.8e+04</td> <td> 1.07e+05</td>\n",
       "</tr>\n",
       "<tr>\n",
       "  <th>sqft_above</th>    <td>   59.6589</td> <td>   18.774</td> <td>    3.178</td> <td> 0.001</td> <td>   22.861</td> <td>   96.457</td>\n",
       "</tr>\n",
       "<tr>\n",
       "  <th>sqft_basement</th> <td>   49.7511</td> <td>   18.620</td> <td>    2.672</td> <td> 0.008</td> <td>   13.255</td> <td>   86.248</td>\n",
       "</tr>\n",
       "<tr>\n",
       "  <th>yr_built</th>      <td>-2999.4497</td> <td>   71.290</td> <td>  -42.074</td> <td> 0.000</td> <td>-3139.184</td> <td>-2859.715</td>\n",
       "</tr>\n",
       "<tr>\n",
       "  <th>zipcode</th>       <td> -494.5318</td> <td>   34.156</td> <td>  -14.479</td> <td> 0.000</td> <td> -561.480</td> <td> -427.583</td>\n",
       "</tr>\n",
       "<tr>\n",
       "  <th>lat</th>           <td> 5.589e+05</td> <td> 1.11e+04</td> <td>   50.347</td> <td> 0.000</td> <td> 5.37e+05</td> <td> 5.81e+05</td>\n",
       "</tr>\n",
       "<tr>\n",
       "  <th>long</th>          <td>-2.391e+05</td> <td> 1.37e+04</td> <td>  -17.508</td> <td> 0.000</td> <td>-2.66e+05</td> <td>-2.12e+05</td>\n",
       "</tr>\n",
       "<tr>\n",
       "  <th>sqft_living15</th> <td>   36.3102</td> <td>    3.539</td> <td>   10.259</td> <td> 0.000</td> <td>   29.373</td> <td>   43.247</td>\n",
       "</tr>\n",
       "<tr>\n",
       "  <th>sqft_lot15</th>    <td>   -0.3559</td> <td>    0.076</td> <td>   -4.666</td> <td> 0.000</td> <td>   -0.505</td> <td>   -0.206</td>\n",
       "</tr>\n",
       "</table>\n",
       "<table class=\"simpletable\">\n",
       "<tr>\n",
       "  <th>Omnibus:</th>       <td>18378.936</td> <th>  Durbin-Watson:     </th>  <td>   1.990</td>  \n",
       "</tr>\n",
       "<tr>\n",
       "  <th>Prob(Omnibus):</th>  <td> 0.000</td>   <th>  Jarque-Bera (JB):  </th> <td>1696427.707</td>\n",
       "</tr>\n",
       "<tr>\n",
       "  <th>Skew:</th>           <td> 3.604</td>   <th>  Prob(JB):          </th>  <td>    0.00</td>  \n",
       "</tr>\n",
       "<tr>\n",
       "  <th>Kurtosis:</th>       <td>45.816</td>   <th>  Cond. No.          </th>  <td>2.14e+08</td>  \n",
       "</tr>\n",
       "</table><br/><br/>Warnings:<br/>[1] Standard Errors assume that the covariance matrix of the errors is correctly specified.<br/>[2] The condition number is large, 2.14e+08. This might indicate that there are<br/>strong multicollinearity or other numerical problems."
      ],
      "text/plain": [
       "<class 'statsmodels.iolib.summary.Summary'>\n",
       "\"\"\"\n",
       "                            OLS Regression Results                            \n",
       "==============================================================================\n",
       "Dep. Variable:                  price   R-squared:                       0.676\n",
       "Model:                            OLS   Adj. R-squared:                  0.675\n",
       "Method:                 Least Squares   F-statistic:                     2810.\n",
       "Date:                Wed, 22 Jul 2020   Prob (F-statistic):               0.00\n",
       "Time:                        16:38:47   Log-Likelihood:            -2.9523e+05\n",
       "No. Observations:               21597   AIC:                         5.905e+05\n",
       "Df Residuals:                   21580   BIC:                         5.906e+05\n",
       "Df Model:                          16                                         \n",
       "Covariance Type:            nonrobust                                         \n",
       "=================================================================================\n",
       "                    coef    std err          t      P>|t|      [0.025      0.975]\n",
       "---------------------------------------------------------------------------------\n",
       "const         -2.144e+06   3.02e+06     -0.709      0.478   -8.07e+06    3.78e+06\n",
       "bedrooms      -4.289e+04   1967.504    -21.797      0.000   -4.67e+04    -3.9e+04\n",
       "bathrooms       4.67e+04   3367.375     13.869      0.000    4.01e+04    5.33e+04\n",
       "sqft_living     123.6175     18.785      6.581      0.000      86.798     160.437\n",
       "sqft_lot          0.1595      0.050      3.202      0.001       0.062       0.257\n",
       "floors          1.13e+04   3739.250      3.022      0.003    3970.688    1.86e+04\n",
       "waterfront     3.859e+05   1.23e+04     31.384      0.000    3.62e+05     4.1e+05\n",
       "condition      2.612e+04   2410.463     10.835      0.000    2.14e+04    3.08e+04\n",
       "grade          1.024e+05   2237.652     45.776      0.000     9.8e+04    1.07e+05\n",
       "sqft_above       59.6589     18.774      3.178      0.001      22.861      96.457\n",
       "sqft_basement    49.7511     18.620      2.672      0.008      13.255      86.248\n",
       "yr_built      -2999.4497     71.290    -42.074      0.000   -3139.184   -2859.715\n",
       "zipcode        -494.5318     34.156    -14.479      0.000    -561.480    -427.583\n",
       "lat            5.589e+05   1.11e+04     50.347      0.000    5.37e+05    5.81e+05\n",
       "long          -2.391e+05   1.37e+04    -17.508      0.000   -2.66e+05   -2.12e+05\n",
       "sqft_living15    36.3102      3.539     10.259      0.000      29.373      43.247\n",
       "sqft_lot15       -0.3559      0.076     -4.666      0.000      -0.505      -0.206\n",
       "==============================================================================\n",
       "Omnibus:                    18378.936   Durbin-Watson:                   1.990\n",
       "Prob(Omnibus):                  0.000   Jarque-Bera (JB):          1696427.707\n",
       "Skew:                           3.604   Prob(JB):                         0.00\n",
       "Kurtosis:                      45.816   Cond. No.                     2.14e+08\n",
       "==============================================================================\n",
       "\n",
       "Warnings:\n",
       "[1] Standard Errors assume that the covariance matrix of the errors is correctly specified.\n",
       "[2] The condition number is large, 2.14e+08. This might indicate that there are\n",
       "strong multicollinearity or other numerical problems.\n",
       "\"\"\""
      ]
     },
     "execution_count": 5,
     "metadata": {},
     "output_type": "execute_result"
    }
   ],
   "source": [
    "predictors = df.drop(['price', 'date', 'id'], axis= 1)\n",
    "predictors_int = sm.add_constant(predictors)\n",
    "model = sm.OLS(df['price'],predictors_int).fit()\n",
    "model.summary()"
   ]
  },
  {
   "cell_type": "code",
   "execution_count": 6,
   "metadata": {
    "ExecuteTime": {
     "end_time": "2020-07-22T20:38:47.847262Z",
     "start_time": "2020-07-22T20:38:47.826035Z"
    }
   },
   "outputs": [],
   "source": [
    "# Baseline model"
   ]
  },
  {
   "cell_type": "markdown",
   "metadata": {
    "ExecuteTime": {
     "end_time": "2020-07-20T20:27:11.685436Z",
     "start_time": "2020-07-20T20:27:11.647549Z"
    }
   },
   "source": [
    "# Remove outliers"
   ]
  },
  {
   "cell_type": "code",
   "execution_count": 7,
   "metadata": {
    "ExecuteTime": {
     "end_time": "2020-07-22T20:38:47.871093Z",
     "start_time": "2020-07-22T20:38:47.847262Z"
    }
   },
   "outputs": [],
   "source": [
    "df2=df.copy()"
   ]
  },
  {
   "cell_type": "code",
   "execution_count": 8,
   "metadata": {
    "ExecuteTime": {
     "end_time": "2020-07-22T20:38:48.558441Z",
     "start_time": "2020-07-22T20:38:47.874790Z"
    }
   },
   "outputs": [],
   "source": [
    "df2['month'] = [df2['date'][i][5:7] for i in range(len(df2['date']))]"
   ]
  },
  {
   "cell_type": "code",
   "execution_count": 9,
   "metadata": {
    "ExecuteTime": {
     "end_time": "2020-07-22T20:38:48.592394Z",
     "start_time": "2020-07-22T20:38:48.558441Z"
    }
   },
   "outputs": [],
   "source": [
    "df2['month']= df2['month'].astype(int)"
   ]
  },
  {
   "cell_type": "code",
   "execution_count": 10,
   "metadata": {
    "ExecuteTime": {
     "end_time": "2020-07-22T20:38:48.616389Z",
     "start_time": "2020-07-22T20:38:48.592394Z"
    }
   },
   "outputs": [],
   "source": [
    "df2.drop(['id', 'date'], axis=1, inplace=True)"
   ]
  },
  {
   "cell_type": "code",
   "execution_count": 11,
   "metadata": {
    "ExecuteTime": {
     "end_time": "2020-07-22T20:38:48.660340Z",
     "start_time": "2020-07-22T20:38:48.616389Z"
    }
   },
   "outputs": [],
   "source": [
    "from scipy import stats\n",
    "df2 = df2[(np.abs(stats.zscore(df2)) < 3).all(axis=1)]"
   ]
  },
  {
   "cell_type": "code",
   "execution_count": 12,
   "metadata": {
    "ExecuteTime": {
     "end_time": "2020-07-22T20:38:48.835900Z",
     "start_time": "2020-07-22T20:38:48.660340Z"
    }
   },
   "outputs": [
    {
     "data": {
      "text/html": [
       "<table class=\"simpletable\">\n",
       "<caption>OLS Regression Results</caption>\n",
       "<tr>\n",
       "  <th>Dep. Variable:</th>          <td>price</td>      <th>  R-squared:         </th>  <td>   0.682</td>  \n",
       "</tr>\n",
       "<tr>\n",
       "  <th>Model:</th>                   <td>OLS</td>       <th>  Adj. R-squared:    </th>  <td>   0.681</td>  \n",
       "</tr>\n",
       "<tr>\n",
       "  <th>Method:</th>             <td>Least Squares</td>  <th>  F-statistic:       </th>  <td>   2643.</td>  \n",
       "</tr>\n",
       "<tr>\n",
       "  <th>Date:</th>             <td>Wed, 22 Jul 2020</td> <th>  Prob (F-statistic):</th>   <td>  0.00</td>   \n",
       "</tr>\n",
       "<tr>\n",
       "  <th>Time:</th>                 <td>16:38:48</td>     <th>  Log-Likelihood:    </th> <td>-2.6196e+05</td>\n",
       "</tr>\n",
       "<tr>\n",
       "  <th>No. Observations:</th>      <td> 19769</td>      <th>  AIC:               </th>  <td>5.240e+05</td> \n",
       "</tr>\n",
       "<tr>\n",
       "  <th>Df Residuals:</th>          <td> 19752</td>      <th>  BIC:               </th>  <td>5.241e+05</td> \n",
       "</tr>\n",
       "<tr>\n",
       "  <th>Df Model:</th>              <td>    16</td>      <th>                     </th>      <td> </td>     \n",
       "</tr>\n",
       "<tr>\n",
       "  <th>Covariance Type:</th>      <td>nonrobust</td>    <th>                     </th>      <td> </td>     \n",
       "</tr>\n",
       "</table>\n",
       "<table class=\"simpletable\">\n",
       "<tr>\n",
       "        <td></td>           <th>coef</th>     <th>std err</th>      <th>t</th>      <th>P>|t|</th>  <th>[0.025</th>    <th>0.975]</th>  \n",
       "</tr>\n",
       "<tr>\n",
       "  <th>const</th>         <td>-7.219e+06</td> <td> 2.09e+06</td> <td>   -3.447</td> <td> 0.001</td> <td>-1.13e+07</td> <td>-3.11e+06</td>\n",
       "</tr>\n",
       "<tr>\n",
       "  <th>bedrooms</th>      <td>-1.816e+04</td> <td> 1494.597</td> <td>  -12.149</td> <td> 0.000</td> <td>-2.11e+04</td> <td>-1.52e+04</td>\n",
       "</tr>\n",
       "<tr>\n",
       "  <th>bathrooms</th>     <td> 3.225e+04</td> <td> 2445.909</td> <td>   13.185</td> <td> 0.000</td> <td> 2.75e+04</td> <td>  3.7e+04</td>\n",
       "</tr>\n",
       "<tr>\n",
       "  <th>sqft_living</th>   <td>   87.7888</td> <td>   13.837</td> <td>    6.345</td> <td> 0.000</td> <td>   60.667</td> <td>  114.910</td>\n",
       "</tr>\n",
       "<tr>\n",
       "  <th>sqft_lot</th>      <td>    0.2698</td> <td>    0.146</td> <td>    1.845</td> <td> 0.065</td> <td>   -0.017</td> <td>    0.556</td>\n",
       "</tr>\n",
       "<tr>\n",
       "  <th>floors</th>        <td> 3.106e+04</td> <td> 2666.448</td> <td>   11.647</td> <td> 0.000</td> <td> 2.58e+04</td> <td> 3.63e+04</td>\n",
       "</tr>\n",
       "<tr>\n",
       "  <th>waterfront</th>    <td>-1.233e-05</td> <td> 3.58e-06</td> <td>   -3.447</td> <td> 0.001</td> <td>-1.93e-05</td> <td>-5.32e-06</td>\n",
       "</tr>\n",
       "<tr>\n",
       "  <th>condition</th>     <td> 2.806e+04</td> <td> 1680.628</td> <td>   16.698</td> <td> 0.000</td> <td> 2.48e+04</td> <td> 3.14e+04</td>\n",
       "</tr>\n",
       "<tr>\n",
       "  <th>grade</th>         <td> 9.168e+04</td> <td> 1605.671</td> <td>   57.100</td> <td> 0.000</td> <td> 8.85e+04</td> <td> 9.48e+04</td>\n",
       "</tr>\n",
       "<tr>\n",
       "  <th>sqft_above</th>    <td>    8.1408</td> <td>   13.804</td> <td>    0.590</td> <td> 0.555</td> <td>  -18.916</td> <td>   35.197</td>\n",
       "</tr>\n",
       "<tr>\n",
       "  <th>sqft_basement</th> <td>   17.4670</td> <td>   13.698</td> <td>    1.275</td> <td> 0.202</td> <td>   -9.382</td> <td>   44.316</td>\n",
       "</tr>\n",
       "<tr>\n",
       "  <th>yr_built</th>      <td>-2391.4177</td> <td>   49.905</td> <td>  -47.919</td> <td> 0.000</td> <td>-2489.236</td> <td>-2293.599</td>\n",
       "</tr>\n",
       "<tr>\n",
       "  <th>zipcode</th>       <td> -307.8313</td> <td>   23.676</td> <td>  -13.002</td> <td> 0.000</td> <td> -354.237</td> <td> -261.425</td>\n",
       "</tr>\n",
       "<tr>\n",
       "  <th>lat</th>           <td> 5.527e+05</td> <td> 7609.338</td> <td>   72.630</td> <td> 0.000</td> <td> 5.38e+05</td> <td> 5.68e+05</td>\n",
       "</tr>\n",
       "<tr>\n",
       "  <th>long</th>          <td>-1.245e+05</td> <td> 1.07e+04</td> <td>  -11.666</td> <td> 0.000</td> <td>-1.45e+05</td> <td>-1.04e+05</td>\n",
       "</tr>\n",
       "<tr>\n",
       "  <th>sqft_living15</th> <td>   57.7249</td> <td>    2.722</td> <td>   21.206</td> <td> 0.000</td> <td>   52.389</td> <td>   63.060</td>\n",
       "</tr>\n",
       "<tr>\n",
       "  <th>sqft_lot15</th>    <td>   -1.4233</td> <td>    0.192</td> <td>   -7.431</td> <td> 0.000</td> <td>   -1.799</td> <td>   -1.048</td>\n",
       "</tr>\n",
       "<tr>\n",
       "  <th>month</th>         <td>-2703.6919</td> <td>  314.656</td> <td>   -8.593</td> <td> 0.000</td> <td>-3320.444</td> <td>-2086.940</td>\n",
       "</tr>\n",
       "</table>\n",
       "<table class=\"simpletable\">\n",
       "<tr>\n",
       "  <th>Omnibus:</th>       <td>4926.735</td> <th>  Durbin-Watson:     </th> <td>   1.961</td> \n",
       "</tr>\n",
       "<tr>\n",
       "  <th>Prob(Omnibus):</th>  <td> 0.000</td>  <th>  Jarque-Bera (JB):  </th> <td>19224.122</td>\n",
       "</tr>\n",
       "<tr>\n",
       "  <th>Skew:</th>           <td> 1.197</td>  <th>  Prob(JB):          </th> <td>    0.00</td> \n",
       "</tr>\n",
       "<tr>\n",
       "  <th>Kurtosis:</th>       <td> 7.196</td>  <th>  Cond. No.          </th> <td>2.57e+19</td> \n",
       "</tr>\n",
       "</table><br/><br/>Warnings:<br/>[1] Standard Errors assume that the covariance matrix of the errors is correctly specified.<br/>[2] The smallest eigenvalue is 2.94e-25. This might indicate that there are<br/>strong multicollinearity problems or that the design matrix is singular."
      ],
      "text/plain": [
       "<class 'statsmodels.iolib.summary.Summary'>\n",
       "\"\"\"\n",
       "                            OLS Regression Results                            \n",
       "==============================================================================\n",
       "Dep. Variable:                  price   R-squared:                       0.682\n",
       "Model:                            OLS   Adj. R-squared:                  0.681\n",
       "Method:                 Least Squares   F-statistic:                     2643.\n",
       "Date:                Wed, 22 Jul 2020   Prob (F-statistic):               0.00\n",
       "Time:                        16:38:48   Log-Likelihood:            -2.6196e+05\n",
       "No. Observations:               19769   AIC:                         5.240e+05\n",
       "Df Residuals:                   19752   BIC:                         5.241e+05\n",
       "Df Model:                          16                                         \n",
       "Covariance Type:            nonrobust                                         \n",
       "=================================================================================\n",
       "                    coef    std err          t      P>|t|      [0.025      0.975]\n",
       "---------------------------------------------------------------------------------\n",
       "const         -7.219e+06   2.09e+06     -3.447      0.001   -1.13e+07   -3.11e+06\n",
       "bedrooms      -1.816e+04   1494.597    -12.149      0.000   -2.11e+04   -1.52e+04\n",
       "bathrooms      3.225e+04   2445.909     13.185      0.000    2.75e+04     3.7e+04\n",
       "sqft_living      87.7888     13.837      6.345      0.000      60.667     114.910\n",
       "sqft_lot          0.2698      0.146      1.845      0.065      -0.017       0.556\n",
       "floors         3.106e+04   2666.448     11.647      0.000    2.58e+04    3.63e+04\n",
       "waterfront    -1.233e-05   3.58e-06     -3.447      0.001   -1.93e-05   -5.32e-06\n",
       "condition      2.806e+04   1680.628     16.698      0.000    2.48e+04    3.14e+04\n",
       "grade          9.168e+04   1605.671     57.100      0.000    8.85e+04    9.48e+04\n",
       "sqft_above        8.1408     13.804      0.590      0.555     -18.916      35.197\n",
       "sqft_basement    17.4670     13.698      1.275      0.202      -9.382      44.316\n",
       "yr_built      -2391.4177     49.905    -47.919      0.000   -2489.236   -2293.599\n",
       "zipcode        -307.8313     23.676    -13.002      0.000    -354.237    -261.425\n",
       "lat            5.527e+05   7609.338     72.630      0.000    5.38e+05    5.68e+05\n",
       "long          -1.245e+05   1.07e+04    -11.666      0.000   -1.45e+05   -1.04e+05\n",
       "sqft_living15    57.7249      2.722     21.206      0.000      52.389      63.060\n",
       "sqft_lot15       -1.4233      0.192     -7.431      0.000      -1.799      -1.048\n",
       "month         -2703.6919    314.656     -8.593      0.000   -3320.444   -2086.940\n",
       "==============================================================================\n",
       "Omnibus:                     4926.735   Durbin-Watson:                   1.961\n",
       "Prob(Omnibus):                  0.000   Jarque-Bera (JB):            19224.122\n",
       "Skew:                           1.197   Prob(JB):                         0.00\n",
       "Kurtosis:                       7.196   Cond. No.                     2.57e+19\n",
       "==============================================================================\n",
       "\n",
       "Warnings:\n",
       "[1] Standard Errors assume that the covariance matrix of the errors is correctly specified.\n",
       "[2] The smallest eigenvalue is 2.94e-25. This might indicate that there are\n",
       "strong multicollinearity problems or that the design matrix is singular.\n",
       "\"\"\""
      ]
     },
     "execution_count": 12,
     "metadata": {},
     "output_type": "execute_result"
    }
   ],
   "source": [
    "predictors = df2.drop(['price'], axis= 1)\n",
    "predictors_int = sm.add_constant(predictors)\n",
    "model = sm.OLS(df2['price'],predictors_int).fit()\n",
    "model.summary()"
   ]
  },
  {
   "cell_type": "code",
   "execution_count": 13,
   "metadata": {
    "ExecuteTime": {
     "end_time": "2020-07-22T20:38:48.851812Z",
     "start_time": "2020-07-22T20:38:48.835900Z"
    }
   },
   "outputs": [],
   "source": [
    "# Removed outliers to better represent the sample"
   ]
  },
  {
   "cell_type": "markdown",
   "metadata": {},
   "source": [
    "# Dealing with catagorical variables"
   ]
  },
  {
   "cell_type": "markdown",
   "metadata": {},
   "source": [
    "## Seperate houses based on location"
   ]
  },
  {
   "cell_type": "code",
   "execution_count": 14,
   "metadata": {
    "ExecuteTime": {
     "end_time": "2020-07-22T20:38:48.874164Z",
     "start_time": "2020-07-22T20:38:48.857118Z"
    }
   },
   "outputs": [],
   "source": [
    "df3= df2.copy()"
   ]
  },
  {
   "cell_type": "code",
   "execution_count": 15,
   "metadata": {
    "ExecuteTime": {
     "end_time": "2020-07-22T20:38:49.034302Z",
     "start_time": "2020-07-22T20:38:48.877304Z"
    }
   },
   "outputs": [],
   "source": [
    "df3.loc[(df3['lat'] > 47.5) & (df3['long'] < -122.25), 'NW'] =1\n",
    "\n",
    "df3.loc[(df3['lat'] > 47.5) & (df3['long'] >= -122.25) & (df['long'] <= -122.1), 'N'] =1\n",
    "\n",
    "df3.loc[(df3['lat'] > 47.5) & (df3['long'] > -122.1), 'NE'] =1\n",
    "\n",
    "df3.loc[(df3['lat'] <= 47.5) & (df3['long'] > -122.25), 'SW'] =1\n",
    "\n",
    "df3.loc[(df3['lat'] <= 47.5) & (df3['long'] >= -122.25) & (df['long'] <= -122.1), 'S'] =1\n",
    "\n",
    "df3.loc[(df3['lat'] <= 47.5) & (df3['long'] > -122.1), 'SE'] =1"
   ]
  },
  {
   "cell_type": "code",
   "execution_count": 16,
   "metadata": {
    "ExecuteTime": {
     "end_time": "2020-07-22T20:38:49.060071Z",
     "start_time": "2020-07-22T20:38:49.034302Z"
    }
   },
   "outputs": [],
   "source": [
    "df3.drop(['lat', 'long', 'zipcode', 'SE'] ,axis=1, inplace=True)"
   ]
  },
  {
   "cell_type": "code",
   "execution_count": 17,
   "metadata": {
    "ExecuteTime": {
     "end_time": "2020-07-22T20:38:49.085097Z",
     "start_time": "2020-07-22T20:38:49.064221Z"
    }
   },
   "outputs": [],
   "source": [
    "df3 = df3.fillna(0)"
   ]
  },
  {
   "cell_type": "code",
   "execution_count": 18,
   "metadata": {
    "ExecuteTime": {
     "end_time": "2020-07-22T20:38:49.181214Z",
     "start_time": "2020-07-22T20:38:49.085097Z"
    }
   },
   "outputs": [
    {
     "data": {
      "text/html": [
       "<div>\n",
       "<style scoped>\n",
       "    .dataframe tbody tr th:only-of-type {\n",
       "        vertical-align: middle;\n",
       "    }\n",
       "\n",
       "    .dataframe tbody tr th {\n",
       "        vertical-align: top;\n",
       "    }\n",
       "\n",
       "    .dataframe thead th {\n",
       "        text-align: right;\n",
       "    }\n",
       "</style>\n",
       "<table border=\"1\" class=\"dataframe\">\n",
       "  <thead>\n",
       "    <tr style=\"text-align: right;\">\n",
       "      <th></th>\n",
       "      <th>price</th>\n",
       "      <th>bedrooms</th>\n",
       "      <th>bathrooms</th>\n",
       "      <th>sqft_living</th>\n",
       "      <th>sqft_lot</th>\n",
       "      <th>floors</th>\n",
       "      <th>waterfront</th>\n",
       "      <th>condition</th>\n",
       "      <th>grade</th>\n",
       "      <th>sqft_above</th>\n",
       "      <th>sqft_basement</th>\n",
       "      <th>yr_built</th>\n",
       "      <th>sqft_living15</th>\n",
       "      <th>sqft_lot15</th>\n",
       "      <th>month</th>\n",
       "      <th>NW</th>\n",
       "      <th>N</th>\n",
       "      <th>NE</th>\n",
       "      <th>SW</th>\n",
       "      <th>S</th>\n",
       "    </tr>\n",
       "  </thead>\n",
       "  <tbody>\n",
       "    <tr>\n",
       "      <td>0</td>\n",
       "      <td>221900.0</td>\n",
       "      <td>3</td>\n",
       "      <td>1.00</td>\n",
       "      <td>1180</td>\n",
       "      <td>5650</td>\n",
       "      <td>1.0</td>\n",
       "      <td>0.0</td>\n",
       "      <td>3</td>\n",
       "      <td>7</td>\n",
       "      <td>1180</td>\n",
       "      <td>0.0</td>\n",
       "      <td>1955</td>\n",
       "      <td>1340</td>\n",
       "      <td>5650</td>\n",
       "      <td>10</td>\n",
       "      <td>1.0</td>\n",
       "      <td>0.0</td>\n",
       "      <td>0.0</td>\n",
       "      <td>0.0</td>\n",
       "      <td>0.0</td>\n",
       "    </tr>\n",
       "    <tr>\n",
       "      <td>1</td>\n",
       "      <td>538000.0</td>\n",
       "      <td>3</td>\n",
       "      <td>2.25</td>\n",
       "      <td>2570</td>\n",
       "      <td>7242</td>\n",
       "      <td>2.0</td>\n",
       "      <td>0.0</td>\n",
       "      <td>3</td>\n",
       "      <td>7</td>\n",
       "      <td>2170</td>\n",
       "      <td>400.0</td>\n",
       "      <td>1951</td>\n",
       "      <td>1690</td>\n",
       "      <td>7639</td>\n",
       "      <td>12</td>\n",
       "      <td>1.0</td>\n",
       "      <td>0.0</td>\n",
       "      <td>0.0</td>\n",
       "      <td>0.0</td>\n",
       "      <td>0.0</td>\n",
       "    </tr>\n",
       "    <tr>\n",
       "      <td>2</td>\n",
       "      <td>180000.0</td>\n",
       "      <td>2</td>\n",
       "      <td>1.00</td>\n",
       "      <td>770</td>\n",
       "      <td>10000</td>\n",
       "      <td>1.0</td>\n",
       "      <td>0.0</td>\n",
       "      <td>3</td>\n",
       "      <td>6</td>\n",
       "      <td>770</td>\n",
       "      <td>0.0</td>\n",
       "      <td>1933</td>\n",
       "      <td>2720</td>\n",
       "      <td>8062</td>\n",
       "      <td>2</td>\n",
       "      <td>0.0</td>\n",
       "      <td>1.0</td>\n",
       "      <td>0.0</td>\n",
       "      <td>0.0</td>\n",
       "      <td>0.0</td>\n",
       "    </tr>\n",
       "    <tr>\n",
       "      <td>3</td>\n",
       "      <td>604000.0</td>\n",
       "      <td>4</td>\n",
       "      <td>3.00</td>\n",
       "      <td>1960</td>\n",
       "      <td>5000</td>\n",
       "      <td>1.0</td>\n",
       "      <td>0.0</td>\n",
       "      <td>5</td>\n",
       "      <td>7</td>\n",
       "      <td>1050</td>\n",
       "      <td>910.0</td>\n",
       "      <td>1965</td>\n",
       "      <td>1360</td>\n",
       "      <td>5000</td>\n",
       "      <td>12</td>\n",
       "      <td>1.0</td>\n",
       "      <td>0.0</td>\n",
       "      <td>0.0</td>\n",
       "      <td>0.0</td>\n",
       "      <td>0.0</td>\n",
       "    </tr>\n",
       "    <tr>\n",
       "      <td>4</td>\n",
       "      <td>510000.0</td>\n",
       "      <td>3</td>\n",
       "      <td>2.00</td>\n",
       "      <td>1680</td>\n",
       "      <td>8080</td>\n",
       "      <td>1.0</td>\n",
       "      <td>0.0</td>\n",
       "      <td>3</td>\n",
       "      <td>8</td>\n",
       "      <td>1680</td>\n",
       "      <td>0.0</td>\n",
       "      <td>1987</td>\n",
       "      <td>1800</td>\n",
       "      <td>7503</td>\n",
       "      <td>2</td>\n",
       "      <td>0.0</td>\n",
       "      <td>0.0</td>\n",
       "      <td>1.0</td>\n",
       "      <td>0.0</td>\n",
       "      <td>0.0</td>\n",
       "    </tr>\n",
       "    <tr>\n",
       "      <td>...</td>\n",
       "      <td>...</td>\n",
       "      <td>...</td>\n",
       "      <td>...</td>\n",
       "      <td>...</td>\n",
       "      <td>...</td>\n",
       "      <td>...</td>\n",
       "      <td>...</td>\n",
       "      <td>...</td>\n",
       "      <td>...</td>\n",
       "      <td>...</td>\n",
       "      <td>...</td>\n",
       "      <td>...</td>\n",
       "      <td>...</td>\n",
       "      <td>...</td>\n",
       "      <td>...</td>\n",
       "      <td>...</td>\n",
       "      <td>...</td>\n",
       "      <td>...</td>\n",
       "      <td>...</td>\n",
       "      <td>...</td>\n",
       "    </tr>\n",
       "    <tr>\n",
       "      <td>21592</td>\n",
       "      <td>360000.0</td>\n",
       "      <td>3</td>\n",
       "      <td>2.50</td>\n",
       "      <td>1530</td>\n",
       "      <td>1131</td>\n",
       "      <td>3.0</td>\n",
       "      <td>0.0</td>\n",
       "      <td>3</td>\n",
       "      <td>8</td>\n",
       "      <td>1530</td>\n",
       "      <td>0.0</td>\n",
       "      <td>2009</td>\n",
       "      <td>1530</td>\n",
       "      <td>1509</td>\n",
       "      <td>5</td>\n",
       "      <td>1.0</td>\n",
       "      <td>0.0</td>\n",
       "      <td>0.0</td>\n",
       "      <td>0.0</td>\n",
       "      <td>0.0</td>\n",
       "    </tr>\n",
       "    <tr>\n",
       "      <td>21593</td>\n",
       "      <td>400000.0</td>\n",
       "      <td>4</td>\n",
       "      <td>2.50</td>\n",
       "      <td>2310</td>\n",
       "      <td>5813</td>\n",
       "      <td>2.0</td>\n",
       "      <td>0.0</td>\n",
       "      <td>3</td>\n",
       "      <td>8</td>\n",
       "      <td>2310</td>\n",
       "      <td>0.0</td>\n",
       "      <td>2014</td>\n",
       "      <td>1830</td>\n",
       "      <td>7200</td>\n",
       "      <td>2</td>\n",
       "      <td>1.0</td>\n",
       "      <td>0.0</td>\n",
       "      <td>0.0</td>\n",
       "      <td>0.0</td>\n",
       "      <td>0.0</td>\n",
       "    </tr>\n",
       "    <tr>\n",
       "      <td>21594</td>\n",
       "      <td>402101.0</td>\n",
       "      <td>2</td>\n",
       "      <td>0.75</td>\n",
       "      <td>1020</td>\n",
       "      <td>1350</td>\n",
       "      <td>2.0</td>\n",
       "      <td>0.0</td>\n",
       "      <td>3</td>\n",
       "      <td>7</td>\n",
       "      <td>1020</td>\n",
       "      <td>0.0</td>\n",
       "      <td>2009</td>\n",
       "      <td>1020</td>\n",
       "      <td>2007</td>\n",
       "      <td>6</td>\n",
       "      <td>1.0</td>\n",
       "      <td>0.0</td>\n",
       "      <td>0.0</td>\n",
       "      <td>0.0</td>\n",
       "      <td>0.0</td>\n",
       "    </tr>\n",
       "    <tr>\n",
       "      <td>21595</td>\n",
       "      <td>400000.0</td>\n",
       "      <td>3</td>\n",
       "      <td>2.50</td>\n",
       "      <td>1600</td>\n",
       "      <td>2388</td>\n",
       "      <td>2.0</td>\n",
       "      <td>0.0</td>\n",
       "      <td>3</td>\n",
       "      <td>8</td>\n",
       "      <td>1600</td>\n",
       "      <td>0.0</td>\n",
       "      <td>2004</td>\n",
       "      <td>1410</td>\n",
       "      <td>1287</td>\n",
       "      <td>1</td>\n",
       "      <td>0.0</td>\n",
       "      <td>0.0</td>\n",
       "      <td>1.0</td>\n",
       "      <td>0.0</td>\n",
       "      <td>0.0</td>\n",
       "    </tr>\n",
       "    <tr>\n",
       "      <td>21596</td>\n",
       "      <td>325000.0</td>\n",
       "      <td>2</td>\n",
       "      <td>0.75</td>\n",
       "      <td>1020</td>\n",
       "      <td>1076</td>\n",
       "      <td>2.0</td>\n",
       "      <td>0.0</td>\n",
       "      <td>3</td>\n",
       "      <td>7</td>\n",
       "      <td>1020</td>\n",
       "      <td>0.0</td>\n",
       "      <td>2008</td>\n",
       "      <td>1020</td>\n",
       "      <td>1357</td>\n",
       "      <td>10</td>\n",
       "      <td>1.0</td>\n",
       "      <td>0.0</td>\n",
       "      <td>0.0</td>\n",
       "      <td>0.0</td>\n",
       "      <td>0.0</td>\n",
       "    </tr>\n",
       "  </tbody>\n",
       "</table>\n",
       "<p>19769 rows × 20 columns</p>\n",
       "</div>"
      ],
      "text/plain": [
       "          price  bedrooms  bathrooms  sqft_living  sqft_lot  floors  \\\n",
       "0      221900.0         3       1.00         1180      5650     1.0   \n",
       "1      538000.0         3       2.25         2570      7242     2.0   \n",
       "2      180000.0         2       1.00          770     10000     1.0   \n",
       "3      604000.0         4       3.00         1960      5000     1.0   \n",
       "4      510000.0         3       2.00         1680      8080     1.0   \n",
       "...         ...       ...        ...          ...       ...     ...   \n",
       "21592  360000.0         3       2.50         1530      1131     3.0   \n",
       "21593  400000.0         4       2.50         2310      5813     2.0   \n",
       "21594  402101.0         2       0.75         1020      1350     2.0   \n",
       "21595  400000.0         3       2.50         1600      2388     2.0   \n",
       "21596  325000.0         2       0.75         1020      1076     2.0   \n",
       "\n",
       "       waterfront  condition  grade  sqft_above  sqft_basement  yr_built  \\\n",
       "0             0.0          3      7        1180            0.0      1955   \n",
       "1             0.0          3      7        2170          400.0      1951   \n",
       "2             0.0          3      6         770            0.0      1933   \n",
       "3             0.0          5      7        1050          910.0      1965   \n",
       "4             0.0          3      8        1680            0.0      1987   \n",
       "...           ...        ...    ...         ...            ...       ...   \n",
       "21592         0.0          3      8        1530            0.0      2009   \n",
       "21593         0.0          3      8        2310            0.0      2014   \n",
       "21594         0.0          3      7        1020            0.0      2009   \n",
       "21595         0.0          3      8        1600            0.0      2004   \n",
       "21596         0.0          3      7        1020            0.0      2008   \n",
       "\n",
       "       sqft_living15  sqft_lot15  month   NW    N   NE   SW    S  \n",
       "0               1340        5650     10  1.0  0.0  0.0  0.0  0.0  \n",
       "1               1690        7639     12  1.0  0.0  0.0  0.0  0.0  \n",
       "2               2720        8062      2  0.0  1.0  0.0  0.0  0.0  \n",
       "3               1360        5000     12  1.0  0.0  0.0  0.0  0.0  \n",
       "4               1800        7503      2  0.0  0.0  1.0  0.0  0.0  \n",
       "...              ...         ...    ...  ...  ...  ...  ...  ...  \n",
       "21592           1530        1509      5  1.0  0.0  0.0  0.0  0.0  \n",
       "21593           1830        7200      2  1.0  0.0  0.0  0.0  0.0  \n",
       "21594           1020        2007      6  1.0  0.0  0.0  0.0  0.0  \n",
       "21595           1410        1287      1  0.0  0.0  1.0  0.0  0.0  \n",
       "21596           1020        1357     10  1.0  0.0  0.0  0.0  0.0  \n",
       "\n",
       "[19769 rows x 20 columns]"
      ]
     },
     "execution_count": 18,
     "metadata": {},
     "output_type": "execute_result"
    }
   ],
   "source": [
    "df3"
   ]
  },
  {
   "cell_type": "markdown",
   "metadata": {},
   "source": [
    "## Create dummy varaibale for catagorical variables"
   ]
  },
  {
   "cell_type": "code",
   "execution_count": 19,
   "metadata": {
    "ExecuteTime": {
     "end_time": "2020-07-22T20:38:49.209445Z",
     "start_time": "2020-07-22T20:38:49.181214Z"
    }
   },
   "outputs": [],
   "source": [
    "waterfront_dum = pd.get_dummies(df3.waterfront, prefix='waterfront', drop_first=True)\n",
    "condition_dum = pd.get_dummies(df3.condition, prefix = 'condition', drop_first=True)\n",
    "grade_dum = pd.get_dummies(df3.grade, prefix = 'grade', drop_first=True)"
   ]
  },
  {
   "cell_type": "markdown",
   "metadata": {},
   "source": []
  },
  {
   "cell_type": "code",
   "execution_count": 20,
   "metadata": {
    "ExecuteTime": {
     "end_time": "2020-07-22T20:38:49.239808Z",
     "start_time": "2020-07-22T20:38:49.209445Z"
    }
   },
   "outputs": [],
   "source": [
    "df3.drop(['waterfront', 'condition', 'grade'], axis=1, inplace= True)"
   ]
  },
  {
   "cell_type": "code",
   "execution_count": 21,
   "metadata": {
    "ExecuteTime": {
     "end_time": "2020-07-22T20:38:49.261157Z",
     "start_time": "2020-07-22T20:38:49.243208Z"
    }
   },
   "outputs": [],
   "source": [
    "df3 = pd.concat([df3, waterfront_dum, condition_dum, grade_dum], axis=1)"
   ]
  },
  {
   "cell_type": "code",
   "execution_count": 22,
   "metadata": {
    "ExecuteTime": {
     "end_time": "2020-07-22T20:38:49.304949Z",
     "start_time": "2020-07-22T20:38:49.268000Z"
    }
   },
   "outputs": [],
   "source": [
    "df3 = df3.rename(columns = {'waterfront_1.0':'waterfront_1'})"
   ]
  },
  {
   "cell_type": "code",
   "execution_count": 23,
   "metadata": {
    "ExecuteTime": {
     "end_time": "2020-07-22T20:38:49.518452Z",
     "start_time": "2020-07-22T20:38:49.304949Z"
    }
   },
   "outputs": [
    {
     "data": {
      "text/html": [
       "<table class=\"simpletable\">\n",
       "<caption>OLS Regression Results</caption>\n",
       "<tr>\n",
       "  <th>Dep. Variable:</th>          <td>price</td>      <th>  R-squared:         </th>  <td>   0.710</td>  \n",
       "</tr>\n",
       "<tr>\n",
       "  <th>Model:</th>                   <td>OLS</td>       <th>  Adj. R-squared:    </th>  <td>   0.710</td>  \n",
       "</tr>\n",
       "<tr>\n",
       "  <th>Method:</th>             <td>Least Squares</td>  <th>  F-statistic:       </th>  <td>   1934.</td>  \n",
       "</tr>\n",
       "<tr>\n",
       "  <th>Date:</th>             <td>Wed, 22 Jul 2020</td> <th>  Prob (F-statistic):</th>   <td>  0.00</td>   \n",
       "</tr>\n",
       "<tr>\n",
       "  <th>Time:</th>                 <td>16:38:49</td>     <th>  Log-Likelihood:    </th> <td>-2.6104e+05</td>\n",
       "</tr>\n",
       "<tr>\n",
       "  <th>No. Observations:</th>      <td> 19769</td>      <th>  AIC:               </th>  <td>5.221e+05</td> \n",
       "</tr>\n",
       "<tr>\n",
       "  <th>Df Residuals:</th>          <td> 19743</td>      <th>  BIC:               </th>  <td>5.223e+05</td> \n",
       "</tr>\n",
       "<tr>\n",
       "  <th>Df Model:</th>              <td>    25</td>      <th>                     </th>      <td> </td>     \n",
       "</tr>\n",
       "<tr>\n",
       "  <th>Covariance Type:</th>      <td>nonrobust</td>    <th>                     </th>      <td> </td>     \n",
       "</tr>\n",
       "</table>\n",
       "<table class=\"simpletable\">\n",
       "<tr>\n",
       "        <td></td>           <th>coef</th>     <th>std err</th>      <th>t</th>      <th>P>|t|</th>  <th>[0.025</th>    <th>0.975]</th>  \n",
       "</tr>\n",
       "<tr>\n",
       "  <th>const</th>         <td>  3.75e+06</td> <td> 9.71e+04</td> <td>   38.629</td> <td> 0.000</td> <td> 3.56e+06</td> <td> 3.94e+06</td>\n",
       "</tr>\n",
       "<tr>\n",
       "  <th>bedrooms</th>      <td> -1.26e+04</td> <td> 1451.942</td> <td>   -8.677</td> <td> 0.000</td> <td>-1.54e+04</td> <td>-9752.231</td>\n",
       "</tr>\n",
       "<tr>\n",
       "  <th>bathrooms</th>     <td> 3.316e+04</td> <td> 2352.895</td> <td>   14.092</td> <td> 0.000</td> <td> 2.85e+04</td> <td> 3.78e+04</td>\n",
       "</tr>\n",
       "<tr>\n",
       "  <th>sqft_living</th>   <td>   82.7308</td> <td>   13.211</td> <td>    6.262</td> <td> 0.000</td> <td>   56.837</td> <td>  108.625</td>\n",
       "</tr>\n",
       "<tr>\n",
       "  <th>sqft_lot</th>      <td>    0.5269</td> <td>    0.140</td> <td>    3.770</td> <td> 0.000</td> <td>    0.253</td> <td>    0.801</td>\n",
       "</tr>\n",
       "<tr>\n",
       "  <th>floors</th>        <td> 2.081e+04</td> <td> 2647.503</td> <td>    7.862</td> <td> 0.000</td> <td> 1.56e+04</td> <td>  2.6e+04</td>\n",
       "</tr>\n",
       "<tr>\n",
       "  <th>sqft_above</th>    <td>   12.0168</td> <td>   13.192</td> <td>    0.911</td> <td> 0.362</td> <td>  -13.841</td> <td>   37.875</td>\n",
       "</tr>\n",
       "<tr>\n",
       "  <th>sqft_basement</th> <td>   16.0881</td> <td>   13.077</td> <td>    1.230</td> <td> 0.219</td> <td>   -9.543</td> <td>   41.719</td>\n",
       "</tr>\n",
       "<tr>\n",
       "  <th>yr_built</th>      <td>-1972.0621</td> <td>   49.878</td> <td>  -39.538</td> <td> 0.000</td> <td>-2069.828</td> <td>-1874.297</td>\n",
       "</tr>\n",
       "<tr>\n",
       "  <th>sqft_living15</th> <td>   50.5341</td> <td>    2.627</td> <td>   19.238</td> <td> 0.000</td> <td>   45.385</td> <td>   55.683</td>\n",
       "</tr>\n",
       "<tr>\n",
       "  <th>sqft_lot15</th>    <td>   -0.9845</td> <td>    0.184</td> <td>   -5.347</td> <td> 0.000</td> <td>   -1.345</td> <td>   -0.624</td>\n",
       "</tr>\n",
       "<tr>\n",
       "  <th>month</th>         <td>-2700.7982</td> <td>  300.403</td> <td>   -8.991</td> <td> 0.000</td> <td>-3289.613</td> <td>-2111.983</td>\n",
       "</tr>\n",
       "<tr>\n",
       "  <th>NW</th>            <td> 1.998e+05</td> <td> 3444.755</td> <td>   58.011</td> <td> 0.000</td> <td> 1.93e+05</td> <td> 2.07e+05</td>\n",
       "</tr>\n",
       "<tr>\n",
       "  <th>N</th>             <td> 2.135e+05</td> <td> 3590.103</td> <td>   59.463</td> <td> 0.000</td> <td> 2.06e+05</td> <td> 2.21e+05</td>\n",
       "</tr>\n",
       "<tr>\n",
       "  <th>NE</th>            <td> 1.469e+05</td> <td> 4044.615</td> <td>   36.317</td> <td> 0.000</td> <td> 1.39e+05</td> <td> 1.55e+05</td>\n",
       "</tr>\n",
       "<tr>\n",
       "  <th>SW</th>            <td>   2.5e+04</td> <td> 4860.290</td> <td>    5.143</td> <td> 0.000</td> <td> 1.55e+04</td> <td> 3.45e+04</td>\n",
       "</tr>\n",
       "<tr>\n",
       "  <th>S</th>             <td>-2.576e+04</td> <td> 4737.025</td> <td>   -5.437</td> <td> 0.000</td> <td> -3.5e+04</td> <td>-1.65e+04</td>\n",
       "</tr>\n",
       "<tr>\n",
       "  <th>condition_3</th>   <td> 2.733e+04</td> <td>  1.1e+04</td> <td>    2.490</td> <td> 0.013</td> <td> 5815.130</td> <td> 4.89e+04</td>\n",
       "</tr>\n",
       "<tr>\n",
       "  <th>condition_4</th>   <td> 5.612e+04</td> <td>  1.1e+04</td> <td>    5.091</td> <td> 0.000</td> <td> 3.45e+04</td> <td> 7.77e+04</td>\n",
       "</tr>\n",
       "<tr>\n",
       "  <th>condition_5</th>   <td>  8.38e+04</td> <td> 1.14e+04</td> <td>    7.356</td> <td> 0.000</td> <td> 6.15e+04</td> <td> 1.06e+05</td>\n",
       "</tr>\n",
       "<tr>\n",
       "  <th>grade_6</th>       <td> 2.146e+04</td> <td> 9624.954</td> <td>    2.230</td> <td> 0.026</td> <td> 2598.421</td> <td> 4.03e+04</td>\n",
       "</tr>\n",
       "<tr>\n",
       "  <th>grade_7</th>       <td>     8e+04</td> <td> 9450.052</td> <td>    8.465</td> <td> 0.000</td> <td> 6.15e+04</td> <td> 9.85e+04</td>\n",
       "</tr>\n",
       "<tr>\n",
       "  <th>grade_8</th>       <td> 1.565e+05</td> <td> 9817.201</td> <td>   15.942</td> <td> 0.000</td> <td> 1.37e+05</td> <td> 1.76e+05</td>\n",
       "</tr>\n",
       "<tr>\n",
       "  <th>grade_9</th>       <td> 2.738e+05</td> <td> 1.05e+04</td> <td>   26.021</td> <td> 0.000</td> <td> 2.53e+05</td> <td> 2.94e+05</td>\n",
       "</tr>\n",
       "<tr>\n",
       "  <th>grade_10</th>      <td> 3.755e+05</td> <td> 1.16e+04</td> <td>   32.417</td> <td> 0.000</td> <td> 3.53e+05</td> <td> 3.98e+05</td>\n",
       "</tr>\n",
       "<tr>\n",
       "  <th>grade_11</th>      <td> 4.602e+05</td> <td> 1.56e+04</td> <td>   29.426</td> <td> 0.000</td> <td>  4.3e+05</td> <td> 4.91e+05</td>\n",
       "</tr>\n",
       "</table>\n",
       "<table class=\"simpletable\">\n",
       "<tr>\n",
       "  <th>Omnibus:</th>       <td>5035.907</td> <th>  Durbin-Watson:     </th> <td>   1.963</td> \n",
       "</tr>\n",
       "<tr>\n",
       "  <th>Prob(Omnibus):</th>  <td> 0.000</td>  <th>  Jarque-Bera (JB):  </th> <td>21214.920</td>\n",
       "</tr>\n",
       "<tr>\n",
       "  <th>Skew:</th>           <td> 1.199</td>  <th>  Prob(JB):          </th> <td>    0.00</td> \n",
       "</tr>\n",
       "<tr>\n",
       "  <th>Kurtosis:</th>       <td> 7.472</td>  <th>  Cond. No.          </th> <td>2.04e+06</td> \n",
       "</tr>\n",
       "</table><br/><br/>Warnings:<br/>[1] Standard Errors assume that the covariance matrix of the errors is correctly specified.<br/>[2] The condition number is large, 2.04e+06. This might indicate that there are<br/>strong multicollinearity or other numerical problems."
      ],
      "text/plain": [
       "<class 'statsmodels.iolib.summary.Summary'>\n",
       "\"\"\"\n",
       "                            OLS Regression Results                            \n",
       "==============================================================================\n",
       "Dep. Variable:                  price   R-squared:                       0.710\n",
       "Model:                            OLS   Adj. R-squared:                  0.710\n",
       "Method:                 Least Squares   F-statistic:                     1934.\n",
       "Date:                Wed, 22 Jul 2020   Prob (F-statistic):               0.00\n",
       "Time:                        16:38:49   Log-Likelihood:            -2.6104e+05\n",
       "No. Observations:               19769   AIC:                         5.221e+05\n",
       "Df Residuals:                   19743   BIC:                         5.223e+05\n",
       "Df Model:                          25                                         \n",
       "Covariance Type:            nonrobust                                         \n",
       "=================================================================================\n",
       "                    coef    std err          t      P>|t|      [0.025      0.975]\n",
       "---------------------------------------------------------------------------------\n",
       "const           3.75e+06   9.71e+04     38.629      0.000    3.56e+06    3.94e+06\n",
       "bedrooms       -1.26e+04   1451.942     -8.677      0.000   -1.54e+04   -9752.231\n",
       "bathrooms      3.316e+04   2352.895     14.092      0.000    2.85e+04    3.78e+04\n",
       "sqft_living      82.7308     13.211      6.262      0.000      56.837     108.625\n",
       "sqft_lot          0.5269      0.140      3.770      0.000       0.253       0.801\n",
       "floors         2.081e+04   2647.503      7.862      0.000    1.56e+04     2.6e+04\n",
       "sqft_above       12.0168     13.192      0.911      0.362     -13.841      37.875\n",
       "sqft_basement    16.0881     13.077      1.230      0.219      -9.543      41.719\n",
       "yr_built      -1972.0621     49.878    -39.538      0.000   -2069.828   -1874.297\n",
       "sqft_living15    50.5341      2.627     19.238      0.000      45.385      55.683\n",
       "sqft_lot15       -0.9845      0.184     -5.347      0.000      -1.345      -0.624\n",
       "month         -2700.7982    300.403     -8.991      0.000   -3289.613   -2111.983\n",
       "NW             1.998e+05   3444.755     58.011      0.000    1.93e+05    2.07e+05\n",
       "N              2.135e+05   3590.103     59.463      0.000    2.06e+05    2.21e+05\n",
       "NE             1.469e+05   4044.615     36.317      0.000    1.39e+05    1.55e+05\n",
       "SW               2.5e+04   4860.290      5.143      0.000    1.55e+04    3.45e+04\n",
       "S             -2.576e+04   4737.025     -5.437      0.000    -3.5e+04   -1.65e+04\n",
       "condition_3    2.733e+04    1.1e+04      2.490      0.013    5815.130    4.89e+04\n",
       "condition_4    5.612e+04    1.1e+04      5.091      0.000    3.45e+04    7.77e+04\n",
       "condition_5     8.38e+04   1.14e+04      7.356      0.000    6.15e+04    1.06e+05\n",
       "grade_6        2.146e+04   9624.954      2.230      0.026    2598.421    4.03e+04\n",
       "grade_7            8e+04   9450.052      8.465      0.000    6.15e+04    9.85e+04\n",
       "grade_8        1.565e+05   9817.201     15.942      0.000    1.37e+05    1.76e+05\n",
       "grade_9        2.738e+05   1.05e+04     26.021      0.000    2.53e+05    2.94e+05\n",
       "grade_10       3.755e+05   1.16e+04     32.417      0.000    3.53e+05    3.98e+05\n",
       "grade_11       4.602e+05   1.56e+04     29.426      0.000     4.3e+05    4.91e+05\n",
       "==============================================================================\n",
       "Omnibus:                     5035.907   Durbin-Watson:                   1.963\n",
       "Prob(Omnibus):                  0.000   Jarque-Bera (JB):            21214.920\n",
       "Skew:                           1.199   Prob(JB):                         0.00\n",
       "Kurtosis:                       7.472   Cond. No.                     2.04e+06\n",
       "==============================================================================\n",
       "\n",
       "Warnings:\n",
       "[1] Standard Errors assume that the covariance matrix of the errors is correctly specified.\n",
       "[2] The condition number is large, 2.04e+06. This might indicate that there are\n",
       "strong multicollinearity or other numerical problems.\n",
       "\"\"\""
      ]
     },
     "execution_count": 23,
     "metadata": {},
     "output_type": "execute_result"
    }
   ],
   "source": [
    "predictors = df3.drop(['price'], axis= 1)\n",
    "predictors_int = sm.add_constant(predictors)\n",
    "model = sm.OLS(df3['price'],predictors_int).fit()\n",
    "model.summary()"
   ]
  },
  {
   "cell_type": "code",
   "execution_count": 24,
   "metadata": {
    "ExecuteTime": {
     "end_time": "2020-07-22T20:38:49.534682Z",
     "start_time": "2020-07-22T20:38:49.518452Z"
    }
   },
   "outputs": [],
   "source": [
    "# Took the catagorical predictors and sepereted them into binary dummy variables"
   ]
  },
  {
   "cell_type": "markdown",
   "metadata": {
    "ExecuteTime": {
     "end_time": "2020-07-21T17:11:12.857320Z",
     "start_time": "2020-07-21T17:11:07.722Z"
    }
   },
   "source": [
    "# Drop non significant values"
   ]
  },
  {
   "cell_type": "markdown",
   "metadata": {
    "ExecuteTime": {
     "end_time": "2020-07-21T20:39:12.735053Z",
     "start_time": "2020-07-21T20:39:12.728567Z"
    }
   },
   "source": [
    "## Make sqft_basement a catagorical value"
   ]
  },
  {
   "cell_type": "code",
   "execution_count": 25,
   "metadata": {
    "ExecuteTime": {
     "end_time": "2020-07-22T20:38:49.556492Z",
     "start_time": "2020-07-22T20:38:49.538218Z"
    }
   },
   "outputs": [],
   "source": [
    "df4 = df3.copy()"
   ]
  },
  {
   "cell_type": "code",
   "execution_count": 26,
   "metadata": {
    "ExecuteTime": {
     "end_time": "2020-07-22T20:38:49.584896Z",
     "start_time": "2020-07-22T20:38:49.561130Z"
    }
   },
   "outputs": [],
   "source": [
    "df4.loc[df4['sqft_basement'] > 0, 'basement_present'] = 1"
   ]
  },
  {
   "cell_type": "code",
   "execution_count": 27,
   "metadata": {
    "ExecuteTime": {
     "end_time": "2020-07-22T20:38:49.614969Z",
     "start_time": "2020-07-22T20:38:49.584896Z"
    }
   },
   "outputs": [],
   "source": [
    "df4 = df4.fillna(0)"
   ]
  },
  {
   "cell_type": "markdown",
   "metadata": {
    "ExecuteTime": {
     "end_time": "2020-07-21T20:44:29.540873Z",
     "start_time": "2020-07-21T20:44:29.537833Z"
    }
   },
   "source": [
    "## Drop Values"
   ]
  },
  {
   "cell_type": "code",
   "execution_count": 28,
   "metadata": {
    "ExecuteTime": {
     "end_time": "2020-07-22T20:38:49.641097Z",
     "start_time": "2020-07-22T20:38:49.614969Z"
    }
   },
   "outputs": [],
   "source": [
    "df4.drop(['sqft_above', 'sqft_basement'], axis=1, inplace=True)"
   ]
  },
  {
   "cell_type": "code",
   "execution_count": 29,
   "metadata": {
    "ExecuteTime": {
     "end_time": "2020-07-22T20:38:49.842561Z",
     "start_time": "2020-07-22T20:38:49.641097Z"
    }
   },
   "outputs": [
    {
     "data": {
      "text/html": [
       "<table class=\"simpletable\">\n",
       "<caption>OLS Regression Results</caption>\n",
       "<tr>\n",
       "  <th>Dep. Variable:</th>          <td>price</td>      <th>  R-squared:         </th>  <td>   0.710</td>  \n",
       "</tr>\n",
       "<tr>\n",
       "  <th>Model:</th>                   <td>OLS</td>       <th>  Adj. R-squared:    </th>  <td>   0.710</td>  \n",
       "</tr>\n",
       "<tr>\n",
       "  <th>Method:</th>             <td>Least Squares</td>  <th>  F-statistic:       </th>  <td>   2017.</td>  \n",
       "</tr>\n",
       "<tr>\n",
       "  <th>Date:</th>             <td>Wed, 22 Jul 2020</td> <th>  Prob (F-statistic):</th>   <td>  0.00</td>   \n",
       "</tr>\n",
       "<tr>\n",
       "  <th>Time:</th>                 <td>16:38:49</td>     <th>  Log-Likelihood:    </th> <td>-2.6103e+05</td>\n",
       "</tr>\n",
       "<tr>\n",
       "  <th>No. Observations:</th>      <td> 19769</td>      <th>  AIC:               </th>  <td>5.221e+05</td> \n",
       "</tr>\n",
       "<tr>\n",
       "  <th>Df Residuals:</th>          <td> 19744</td>      <th>  BIC:               </th>  <td>5.223e+05</td> \n",
       "</tr>\n",
       "<tr>\n",
       "  <th>Df Model:</th>              <td>    24</td>      <th>                     </th>      <td> </td>     \n",
       "</tr>\n",
       "<tr>\n",
       "  <th>Covariance Type:</th>      <td>nonrobust</td>    <th>                     </th>      <td> </td>     \n",
       "</tr>\n",
       "</table>\n",
       "<table class=\"simpletable\">\n",
       "<tr>\n",
       "          <td></td>            <th>coef</th>     <th>std err</th>      <th>t</th>      <th>P>|t|</th>  <th>[0.025</th>    <th>0.975]</th>  \n",
       "</tr>\n",
       "<tr>\n",
       "  <th>const</th>            <td>  3.75e+06</td> <td>  9.7e+04</td> <td>   38.641</td> <td> 0.000</td> <td> 3.56e+06</td> <td> 3.94e+06</td>\n",
       "</tr>\n",
       "<tr>\n",
       "  <th>bedrooms</th>         <td>-1.241e+04</td> <td> 1452.265</td> <td>   -8.548</td> <td> 0.000</td> <td>-1.53e+04</td> <td>-9567.097</td>\n",
       "</tr>\n",
       "<tr>\n",
       "  <th>bathrooms</th>        <td> 3.175e+04</td> <td> 2361.490</td> <td>   13.446</td> <td> 0.000</td> <td> 2.71e+04</td> <td> 3.64e+04</td>\n",
       "</tr>\n",
       "<tr>\n",
       "  <th>sqft_living</th>      <td>   93.6927</td> <td>    2.731</td> <td>   34.311</td> <td> 0.000</td> <td>   88.340</td> <td>   99.045</td>\n",
       "</tr>\n",
       "<tr>\n",
       "  <th>sqft_lot</th>         <td>    0.5292</td> <td>    0.140</td> <td>    3.788</td> <td> 0.000</td> <td>    0.255</td> <td>    0.803</td>\n",
       "</tr>\n",
       "<tr>\n",
       "  <th>floors</th>           <td> 2.343e+04</td> <td> 2534.197</td> <td>    9.245</td> <td> 0.000</td> <td> 1.85e+04</td> <td> 2.84e+04</td>\n",
       "</tr>\n",
       "<tr>\n",
       "  <th>yr_built</th>         <td>-1972.9518</td> <td>   49.861</td> <td>  -39.569</td> <td> 0.000</td> <td>-2070.684</td> <td>-1875.220</td>\n",
       "</tr>\n",
       "<tr>\n",
       "  <th>sqft_living15</th>    <td>   50.9278</td> <td>    2.612</td> <td>   19.495</td> <td> 0.000</td> <td>   45.807</td> <td>   56.048</td>\n",
       "</tr>\n",
       "<tr>\n",
       "  <th>sqft_lot15</th>       <td>   -0.9728</td> <td>    0.184</td> <td>   -5.284</td> <td> 0.000</td> <td>   -1.334</td> <td>   -0.612</td>\n",
       "</tr>\n",
       "<tr>\n",
       "  <th>month</th>            <td>-2699.4642</td> <td>  300.268</td> <td>   -8.990</td> <td> 0.000</td> <td>-3288.014</td> <td>-2110.914</td>\n",
       "</tr>\n",
       "<tr>\n",
       "  <th>NW</th>               <td> 1.981e+05</td> <td> 3447.123</td> <td>   57.460</td> <td> 0.000</td> <td> 1.91e+05</td> <td> 2.05e+05</td>\n",
       "</tr>\n",
       "<tr>\n",
       "  <th>N</th>                <td> 2.137e+05</td> <td> 3588.980</td> <td>   59.534</td> <td> 0.000</td> <td> 2.07e+05</td> <td> 2.21e+05</td>\n",
       "</tr>\n",
       "<tr>\n",
       "  <th>NE</th>               <td> 1.477e+05</td> <td> 4040.669</td> <td>   36.557</td> <td> 0.000</td> <td>  1.4e+05</td> <td> 1.56e+05</td>\n",
       "</tr>\n",
       "<tr>\n",
       "  <th>SW</th>               <td>   2.6e+04</td> <td> 4861.911</td> <td>    5.347</td> <td> 0.000</td> <td> 1.65e+04</td> <td> 3.55e+04</td>\n",
       "</tr>\n",
       "<tr>\n",
       "  <th>S</th>                <td>  -2.6e+04</td> <td> 4735.834</td> <td>   -5.491</td> <td> 0.000</td> <td>-3.53e+04</td> <td>-1.67e+04</td>\n",
       "</tr>\n",
       "<tr>\n",
       "  <th>condition_3</th>      <td> 2.765e+04</td> <td>  1.1e+04</td> <td>    2.519</td> <td> 0.012</td> <td> 6136.035</td> <td> 4.92e+04</td>\n",
       "</tr>\n",
       "<tr>\n",
       "  <th>condition_4</th>      <td> 5.628e+04</td> <td>  1.1e+04</td> <td>    5.108</td> <td> 0.000</td> <td> 3.47e+04</td> <td> 7.79e+04</td>\n",
       "</tr>\n",
       "<tr>\n",
       "  <th>condition_5</th>      <td> 8.413e+04</td> <td> 1.14e+04</td> <td>    7.390</td> <td> 0.000</td> <td> 6.18e+04</td> <td> 1.06e+05</td>\n",
       "</tr>\n",
       "<tr>\n",
       "  <th>grade_6</th>          <td> 2.108e+04</td> <td> 9620.880</td> <td>    2.191</td> <td> 0.028</td> <td> 2224.781</td> <td> 3.99e+04</td>\n",
       "</tr>\n",
       "<tr>\n",
       "  <th>grade_7</th>          <td> 7.882e+04</td> <td> 9450.770</td> <td>    8.340</td> <td> 0.000</td> <td> 6.03e+04</td> <td> 9.73e+04</td>\n",
       "</tr>\n",
       "<tr>\n",
       "  <th>grade_8</th>          <td> 1.553e+05</td> <td> 9817.144</td> <td>   15.815</td> <td> 0.000</td> <td> 1.36e+05</td> <td> 1.75e+05</td>\n",
       "</tr>\n",
       "<tr>\n",
       "  <th>grade_9</th>          <td> 2.734e+05</td> <td> 1.05e+04</td> <td>   26.036</td> <td> 0.000</td> <td> 2.53e+05</td> <td> 2.94e+05</td>\n",
       "</tr>\n",
       "<tr>\n",
       "  <th>grade_10</th>         <td> 3.754e+05</td> <td> 1.15e+04</td> <td>   32.528</td> <td> 0.000</td> <td> 3.53e+05</td> <td> 3.98e+05</td>\n",
       "</tr>\n",
       "<tr>\n",
       "  <th>grade_11</th>         <td> 4.606e+05</td> <td> 1.56e+04</td> <td>   29.547</td> <td> 0.000</td> <td>  4.3e+05</td> <td> 4.91e+05</td>\n",
       "</tr>\n",
       "<tr>\n",
       "  <th>basement_present</th> <td> 9394.0085</td> <td> 2376.899</td> <td>    3.952</td> <td> 0.000</td> <td> 4735.086</td> <td> 1.41e+04</td>\n",
       "</tr>\n",
       "</table>\n",
       "<table class=\"simpletable\">\n",
       "<tr>\n",
       "  <th>Omnibus:</th>       <td>5052.056</td> <th>  Durbin-Watson:     </th> <td>   1.964</td> \n",
       "</tr>\n",
       "<tr>\n",
       "  <th>Prob(Omnibus):</th>  <td> 0.000</td>  <th>  Jarque-Bera (JB):  </th> <td>21374.664</td>\n",
       "</tr>\n",
       "<tr>\n",
       "  <th>Skew:</th>           <td> 1.202</td>  <th>  Prob(JB):          </th> <td>    0.00</td> \n",
       "</tr>\n",
       "<tr>\n",
       "  <th>Kurtosis:</th>       <td> 7.491</td>  <th>  Cond. No.          </th> <td>2.03e+06</td> \n",
       "</tr>\n",
       "</table><br/><br/>Warnings:<br/>[1] Standard Errors assume that the covariance matrix of the errors is correctly specified.<br/>[2] The condition number is large, 2.03e+06. This might indicate that there are<br/>strong multicollinearity or other numerical problems."
      ],
      "text/plain": [
       "<class 'statsmodels.iolib.summary.Summary'>\n",
       "\"\"\"\n",
       "                            OLS Regression Results                            \n",
       "==============================================================================\n",
       "Dep. Variable:                  price   R-squared:                       0.710\n",
       "Model:                            OLS   Adj. R-squared:                  0.710\n",
       "Method:                 Least Squares   F-statistic:                     2017.\n",
       "Date:                Wed, 22 Jul 2020   Prob (F-statistic):               0.00\n",
       "Time:                        16:38:49   Log-Likelihood:            -2.6103e+05\n",
       "No. Observations:               19769   AIC:                         5.221e+05\n",
       "Df Residuals:                   19744   BIC:                         5.223e+05\n",
       "Df Model:                          24                                         \n",
       "Covariance Type:            nonrobust                                         \n",
       "====================================================================================\n",
       "                       coef    std err          t      P>|t|      [0.025      0.975]\n",
       "------------------------------------------------------------------------------------\n",
       "const              3.75e+06    9.7e+04     38.641      0.000    3.56e+06    3.94e+06\n",
       "bedrooms         -1.241e+04   1452.265     -8.548      0.000   -1.53e+04   -9567.097\n",
       "bathrooms         3.175e+04   2361.490     13.446      0.000    2.71e+04    3.64e+04\n",
       "sqft_living         93.6927      2.731     34.311      0.000      88.340      99.045\n",
       "sqft_lot             0.5292      0.140      3.788      0.000       0.255       0.803\n",
       "floors            2.343e+04   2534.197      9.245      0.000    1.85e+04    2.84e+04\n",
       "yr_built         -1972.9518     49.861    -39.569      0.000   -2070.684   -1875.220\n",
       "sqft_living15       50.9278      2.612     19.495      0.000      45.807      56.048\n",
       "sqft_lot15          -0.9728      0.184     -5.284      0.000      -1.334      -0.612\n",
       "month            -2699.4642    300.268     -8.990      0.000   -3288.014   -2110.914\n",
       "NW                1.981e+05   3447.123     57.460      0.000    1.91e+05    2.05e+05\n",
       "N                 2.137e+05   3588.980     59.534      0.000    2.07e+05    2.21e+05\n",
       "NE                1.477e+05   4040.669     36.557      0.000     1.4e+05    1.56e+05\n",
       "SW                  2.6e+04   4861.911      5.347      0.000    1.65e+04    3.55e+04\n",
       "S                  -2.6e+04   4735.834     -5.491      0.000   -3.53e+04   -1.67e+04\n",
       "condition_3       2.765e+04    1.1e+04      2.519      0.012    6136.035    4.92e+04\n",
       "condition_4       5.628e+04    1.1e+04      5.108      0.000    3.47e+04    7.79e+04\n",
       "condition_5       8.413e+04   1.14e+04      7.390      0.000    6.18e+04    1.06e+05\n",
       "grade_6           2.108e+04   9620.880      2.191      0.028    2224.781    3.99e+04\n",
       "grade_7           7.882e+04   9450.770      8.340      0.000    6.03e+04    9.73e+04\n",
       "grade_8           1.553e+05   9817.144     15.815      0.000    1.36e+05    1.75e+05\n",
       "grade_9           2.734e+05   1.05e+04     26.036      0.000    2.53e+05    2.94e+05\n",
       "grade_10          3.754e+05   1.15e+04     32.528      0.000    3.53e+05    3.98e+05\n",
       "grade_11          4.606e+05   1.56e+04     29.547      0.000     4.3e+05    4.91e+05\n",
       "basement_present  9394.0085   2376.899      3.952      0.000    4735.086    1.41e+04\n",
       "==============================================================================\n",
       "Omnibus:                     5052.056   Durbin-Watson:                   1.964\n",
       "Prob(Omnibus):                  0.000   Jarque-Bera (JB):            21374.664\n",
       "Skew:                           1.202   Prob(JB):                         0.00\n",
       "Kurtosis:                       7.491   Cond. No.                     2.03e+06\n",
       "==============================================================================\n",
       "\n",
       "Warnings:\n",
       "[1] Standard Errors assume that the covariance matrix of the errors is correctly specified.\n",
       "[2] The condition number is large, 2.03e+06. This might indicate that there are\n",
       "strong multicollinearity or other numerical problems.\n",
       "\"\"\""
      ]
     },
     "execution_count": 29,
     "metadata": {},
     "output_type": "execute_result"
    }
   ],
   "source": [
    "predictors = df4.drop(['price'], axis= 1)\n",
    "predictors_int = sm.add_constant(predictors)\n",
    "model = sm.OLS(df4['price'],predictors_int).fit()\n",
    "model.summary()"
   ]
  },
  {
   "cell_type": "code",
   "execution_count": 30,
   "metadata": {
    "ExecuteTime": {
     "end_time": "2020-07-22T20:38:49.854386Z",
     "start_time": "2020-07-22T20:38:49.845923Z"
    }
   },
   "outputs": [],
   "source": [
    "# Turned basement into a a binary variable and dropped any predictor that had \n",
    "# a P-value < 0.05. This is the final iteration of the model which showed an \n",
    "# ovarall improvement of R2 from the baseline by 0.034"
   ]
  },
  {
   "cell_type": "markdown",
   "metadata": {
    "ExecuteTime": {
     "end_time": "2020-07-21T21:07:38.317786Z",
     "start_time": "2020-07-21T21:07:38.310048Z"
    }
   },
   "source": [
    "# Sepertate data for training and testing"
   ]
  },
  {
   "cell_type": "code",
   "execution_count": 31,
   "metadata": {
    "ExecuteTime": {
     "end_time": "2020-07-22T20:38:50.143483Z",
     "start_time": "2020-07-22T20:38:49.859108Z"
    }
   },
   "outputs": [],
   "source": [
    "from sklearn.model_selection import train_test_split\n",
    "from sklearn.linear_model import LinearRegression\n",
    "from sklearn.model_selection import cross_val_predict"
   ]
  },
  {
   "cell_type": "code",
   "execution_count": 32,
   "metadata": {
    "ExecuteTime": {
     "end_time": "2020-07-22T20:38:50.226051Z",
     "start_time": "2020-07-22T20:38:50.144480Z"
    }
   },
   "outputs": [
    {
     "name": "stdout",
     "output_type": "stream",
     "text": [
      "Train Mean Squarred Error: 17204996988.66767\n",
      "Test Mean Squarred Error: 17380681046.677654\n"
     ]
    }
   ],
   "source": [
    "y = df4['price']\n",
    "X = predictors\n",
    "\n",
    "X_train, X_test, y_train, y_test = train_test_split(X, y, test_size = 0.2)\n",
    "\n",
    "linreg = LinearRegression()\n",
    "linreg.fit(X_train, y_train)\n",
    "\n",
    "y_hat_train = linreg.predict(X_train)\n",
    "y_hat_test = linreg.predict(X_test)\n",
    "\n",
    "mse_train = np.sum((y_train-y_hat_train)**2)/len(y_train)\n",
    "mse_test =np.sum((y_test-y_hat_test)**2)/len(y_test)\n",
    "print('Train Mean Squarred Error:', mse_train)\n",
    "print('Test Mean Squarred Error:', mse_test)"
   ]
  },
  {
   "cell_type": "code",
   "execution_count": null,
   "metadata": {
    "ExecuteTime": {
     "end_time": "2020-07-22T20:09:30.810842Z",
     "start_time": "2020-07-22T20:08:23.778024Z"
    }
   },
   "outputs": [],
   "source": []
  },
  {
   "cell_type": "code",
   "execution_count": null,
   "metadata": {},
   "outputs": [],
   "source": []
  }
 ],
 "metadata": {
  "kernelspec": {
   "display_name": "Python 3",
   "language": "python",
   "name": "python3"
  },
  "language_info": {
   "codemirror_mode": {
    "name": "ipython",
    "version": 3
   },
   "file_extension": ".py",
   "mimetype": "text/x-python",
   "name": "python",
   "nbconvert_exporter": "python",
   "pygments_lexer": "ipython3",
   "version": "3.6.9"
  },
  "toc": {
   "base_numbering": 1,
   "nav_menu": {},
   "number_sections": true,
   "sideBar": true,
   "skip_h1_title": false,
   "title_cell": "Table of Contents",
   "title_sidebar": "Contents",
   "toc_cell": false,
   "toc_position": {
    "height": "calc(100% - 180px)",
    "left": "10px",
    "top": "150px",
    "width": "300.792px"
   },
   "toc_section_display": true,
   "toc_window_display": true
  },
  "varInspector": {
   "cols": {
    "lenName": 16,
    "lenType": 16,
    "lenVar": 40
   },
   "kernels_config": {
    "python": {
     "delete_cmd_postfix": "",
     "delete_cmd_prefix": "del ",
     "library": "var_list.py",
     "varRefreshCmd": "print(var_dic_list())"
    },
    "r": {
     "delete_cmd_postfix": ") ",
     "delete_cmd_prefix": "rm(",
     "library": "var_list.r",
     "varRefreshCmd": "cat(var_dic_list()) "
    }
   },
   "types_to_exclude": [
    "module",
    "function",
    "builtin_function_or_method",
    "instance",
    "_Feature"
   ],
   "window_display": false
  }
 },
 "nbformat": 4,
 "nbformat_minor": 2
}
