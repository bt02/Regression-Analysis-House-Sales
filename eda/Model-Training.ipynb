{
 "cells": [
  {
   "cell_type": "markdown",
   "metadata": {},
   "source": [
    "# Baseline model"
   ]
  },
  {
   "cell_type": "code",
   "execution_count": 1,
   "metadata": {
    "ExecuteTime": {
     "end_time": "2020-07-27T01:47:08.970760Z",
     "start_time": "2020-07-27T01:47:04.800920Z"
    }
   },
   "outputs": [],
   "source": [
    "import pandas as pd\n",
    "from statsmodels.formula.api import ols\n",
    "import seaborn as sns\n",
    "import matplotlib.pyplot as plt\n",
    "import numpy as np\n",
    "import statsmodels.api as sm\n",
    "import warnings\n",
    "warnings.filterwarnings(\"ignore\")"
   ]
  },
  {
   "cell_type": "code",
   "execution_count": 2,
   "metadata": {
    "ExecuteTime": {
     "end_time": "2020-07-27T01:47:09.115017Z",
     "start_time": "2020-07-27T01:47:08.970760Z"
    }
   },
   "outputs": [],
   "source": [
    "df = pd.read_csv('C:/Users/bdtol/flatiron-ds/module2/project_2/Regression-Analysis-House-Sales/csv-files/kc_house_data_clean.csv')\n",
    "pd.set_option('display.max_columns', 500)\n",
    "pd.set_option('display.max_rows', 500)"
   ]
  },
  {
   "cell_type": "code",
   "execution_count": 3,
   "metadata": {
    "ExecuteTime": {
     "end_time": "2020-07-27T01:47:09.188921Z",
     "start_time": "2020-07-27T01:47:09.115017Z"
    }
   },
   "outputs": [
    {
     "data": {
      "text/html": [
       "<div>\n",
       "<style scoped>\n",
       "    .dataframe tbody tr th:only-of-type {\n",
       "        vertical-align: middle;\n",
       "    }\n",
       "\n",
       "    .dataframe tbody tr th {\n",
       "        vertical-align: top;\n",
       "    }\n",
       "\n",
       "    .dataframe thead th {\n",
       "        text-align: right;\n",
       "    }\n",
       "</style>\n",
       "<table border=\"1\" class=\"dataframe\">\n",
       "  <thead>\n",
       "    <tr style=\"text-align: right;\">\n",
       "      <th></th>\n",
       "      <th>Unnamed: 0</th>\n",
       "      <th>id</th>\n",
       "      <th>date</th>\n",
       "      <th>price</th>\n",
       "      <th>bedrooms</th>\n",
       "      <th>bathrooms</th>\n",
       "      <th>sqft_living</th>\n",
       "      <th>sqft_lot</th>\n",
       "      <th>floors</th>\n",
       "      <th>waterfront</th>\n",
       "      <th>condition</th>\n",
       "      <th>grade</th>\n",
       "      <th>sqft_above</th>\n",
       "      <th>sqft_basement</th>\n",
       "      <th>yr_built</th>\n",
       "      <th>zipcode</th>\n",
       "      <th>lat</th>\n",
       "      <th>long</th>\n",
       "      <th>sqft_living15</th>\n",
       "      <th>sqft_lot15</th>\n",
       "    </tr>\n",
       "  </thead>\n",
       "  <tbody>\n",
       "    <tr>\n",
       "      <td>0</td>\n",
       "      <td>0</td>\n",
       "      <td>7129300520</td>\n",
       "      <td>2014-10-13</td>\n",
       "      <td>221900.0</td>\n",
       "      <td>3</td>\n",
       "      <td>1.00</td>\n",
       "      <td>1180</td>\n",
       "      <td>5650</td>\n",
       "      <td>1.0</td>\n",
       "      <td>0.0</td>\n",
       "      <td>3</td>\n",
       "      <td>7</td>\n",
       "      <td>1180</td>\n",
       "      <td>0.0</td>\n",
       "      <td>1955</td>\n",
       "      <td>98178</td>\n",
       "      <td>47.5112</td>\n",
       "      <td>-122.257</td>\n",
       "      <td>1340</td>\n",
       "      <td>5650</td>\n",
       "    </tr>\n",
       "    <tr>\n",
       "      <td>1</td>\n",
       "      <td>1</td>\n",
       "      <td>6414100192</td>\n",
       "      <td>2014-12-09</td>\n",
       "      <td>538000.0</td>\n",
       "      <td>3</td>\n",
       "      <td>2.25</td>\n",
       "      <td>2570</td>\n",
       "      <td>7242</td>\n",
       "      <td>2.0</td>\n",
       "      <td>0.0</td>\n",
       "      <td>3</td>\n",
       "      <td>7</td>\n",
       "      <td>2170</td>\n",
       "      <td>400.0</td>\n",
       "      <td>1951</td>\n",
       "      <td>98125</td>\n",
       "      <td>47.7210</td>\n",
       "      <td>-122.319</td>\n",
       "      <td>1690</td>\n",
       "      <td>7639</td>\n",
       "    </tr>\n",
       "    <tr>\n",
       "      <td>2</td>\n",
       "      <td>2</td>\n",
       "      <td>5631500400</td>\n",
       "      <td>2015-02-25</td>\n",
       "      <td>180000.0</td>\n",
       "      <td>2</td>\n",
       "      <td>1.00</td>\n",
       "      <td>770</td>\n",
       "      <td>10000</td>\n",
       "      <td>1.0</td>\n",
       "      <td>0.0</td>\n",
       "      <td>3</td>\n",
       "      <td>6</td>\n",
       "      <td>770</td>\n",
       "      <td>0.0</td>\n",
       "      <td>1933</td>\n",
       "      <td>98028</td>\n",
       "      <td>47.7379</td>\n",
       "      <td>-122.233</td>\n",
       "      <td>2720</td>\n",
       "      <td>8062</td>\n",
       "    </tr>\n",
       "    <tr>\n",
       "      <td>3</td>\n",
       "      <td>3</td>\n",
       "      <td>2487200875</td>\n",
       "      <td>2014-12-09</td>\n",
       "      <td>604000.0</td>\n",
       "      <td>4</td>\n",
       "      <td>3.00</td>\n",
       "      <td>1960</td>\n",
       "      <td>5000</td>\n",
       "      <td>1.0</td>\n",
       "      <td>0.0</td>\n",
       "      <td>5</td>\n",
       "      <td>7</td>\n",
       "      <td>1050</td>\n",
       "      <td>910.0</td>\n",
       "      <td>1965</td>\n",
       "      <td>98136</td>\n",
       "      <td>47.5208</td>\n",
       "      <td>-122.393</td>\n",
       "      <td>1360</td>\n",
       "      <td>5000</td>\n",
       "    </tr>\n",
       "    <tr>\n",
       "      <td>4</td>\n",
       "      <td>4</td>\n",
       "      <td>1954400510</td>\n",
       "      <td>2015-02-18</td>\n",
       "      <td>510000.0</td>\n",
       "      <td>3</td>\n",
       "      <td>2.00</td>\n",
       "      <td>1680</td>\n",
       "      <td>8080</td>\n",
       "      <td>1.0</td>\n",
       "      <td>0.0</td>\n",
       "      <td>3</td>\n",
       "      <td>8</td>\n",
       "      <td>1680</td>\n",
       "      <td>0.0</td>\n",
       "      <td>1987</td>\n",
       "      <td>98074</td>\n",
       "      <td>47.6168</td>\n",
       "      <td>-122.045</td>\n",
       "      <td>1800</td>\n",
       "      <td>7503</td>\n",
       "    </tr>\n",
       "  </tbody>\n",
       "</table>\n",
       "</div>"
      ],
      "text/plain": [
       "   Unnamed: 0          id        date     price  bedrooms  bathrooms  \\\n",
       "0           0  7129300520  2014-10-13  221900.0         3       1.00   \n",
       "1           1  6414100192  2014-12-09  538000.0         3       2.25   \n",
       "2           2  5631500400  2015-02-25  180000.0         2       1.00   \n",
       "3           3  2487200875  2014-12-09  604000.0         4       3.00   \n",
       "4           4  1954400510  2015-02-18  510000.0         3       2.00   \n",
       "\n",
       "   sqft_living  sqft_lot  floors  waterfront  condition  grade  sqft_above  \\\n",
       "0         1180      5650     1.0         0.0          3      7        1180   \n",
       "1         2570      7242     2.0         0.0          3      7        2170   \n",
       "2          770     10000     1.0         0.0          3      6         770   \n",
       "3         1960      5000     1.0         0.0          5      7        1050   \n",
       "4         1680      8080     1.0         0.0          3      8        1680   \n",
       "\n",
       "   sqft_basement  yr_built  zipcode      lat     long  sqft_living15  \\\n",
       "0            0.0      1955    98178  47.5112 -122.257           1340   \n",
       "1          400.0      1951    98125  47.7210 -122.319           1690   \n",
       "2            0.0      1933    98028  47.7379 -122.233           2720   \n",
       "3          910.0      1965    98136  47.5208 -122.393           1360   \n",
       "4            0.0      1987    98074  47.6168 -122.045           1800   \n",
       "\n",
       "   sqft_lot15  \n",
       "0        5650  \n",
       "1        7639  \n",
       "2        8062  \n",
       "3        5000  \n",
       "4        7503  "
      ]
     },
     "execution_count": 3,
     "metadata": {},
     "output_type": "execute_result"
    }
   ],
   "source": [
    "df.head()"
   ]
  },
  {
   "cell_type": "code",
   "execution_count": 4,
   "metadata": {
    "ExecuteTime": {
     "end_time": "2020-07-27T01:47:09.222114Z",
     "start_time": "2020-07-27T01:47:09.194988Z"
    }
   },
   "outputs": [],
   "source": [
    "df.drop(['Unnamed: 0'], axis = 1 , inplace=True)"
   ]
  },
  {
   "cell_type": "code",
   "execution_count": 5,
   "metadata": {
    "ExecuteTime": {
     "end_time": "2020-07-27T01:47:09.395707Z",
     "start_time": "2020-07-27T01:47:09.222114Z"
    }
   },
   "outputs": [
    {
     "data": {
      "text/html": [
       "<table class=\"simpletable\">\n",
       "<caption>OLS Regression Results</caption>\n",
       "<tr>\n",
       "  <th>Dep. Variable:</th>          <td>price</td>      <th>  R-squared:         </th>  <td>   0.673</td>  \n",
       "</tr>\n",
       "<tr>\n",
       "  <th>Model:</th>                   <td>OLS</td>       <th>  Adj. R-squared:    </th>  <td>   0.673</td>  \n",
       "</tr>\n",
       "<tr>\n",
       "  <th>Method:</th>             <td>Least Squares</td>  <th>  F-statistic:       </th>  <td>   2779.</td>  \n",
       "</tr>\n",
       "<tr>\n",
       "  <th>Date:</th>             <td>Sun, 26 Jul 2020</td> <th>  Prob (F-statistic):</th>   <td>  0.00</td>   \n",
       "</tr>\n",
       "<tr>\n",
       "  <th>Time:</th>                 <td>21:47:09</td>     <th>  Log-Likelihood:    </th> <td>-2.9531e+05</td>\n",
       "</tr>\n",
       "<tr>\n",
       "  <th>No. Observations:</th>      <td> 21597</td>      <th>  AIC:               </th>  <td>5.907e+05</td> \n",
       "</tr>\n",
       "<tr>\n",
       "  <th>Df Residuals:</th>          <td> 21580</td>      <th>  BIC:               </th>  <td>5.908e+05</td> \n",
       "</tr>\n",
       "<tr>\n",
       "  <th>Df Model:</th>              <td>    16</td>      <th>                     </th>      <td> </td>     \n",
       "</tr>\n",
       "<tr>\n",
       "  <th>Covariance Type:</th>      <td>nonrobust</td>    <th>                     </th>      <td> </td>     \n",
       "</tr>\n",
       "</table>\n",
       "<table class=\"simpletable\">\n",
       "<tr>\n",
       "        <td></td>           <th>coef</th>     <th>std err</th>      <th>t</th>      <th>P>|t|</th>  <th>[0.025</th>    <th>0.975]</th>  \n",
       "</tr>\n",
       "<tr>\n",
       "  <th>const</th>         <td>-2.051e+06</td> <td> 3.04e+06</td> <td>   -0.675</td> <td> 0.499</td> <td>   -8e+06</td> <td>  3.9e+06</td>\n",
       "</tr>\n",
       "<tr>\n",
       "  <th>bedrooms</th>      <td>  -4.4e+04</td> <td> 1973.406</td> <td>  -22.297</td> <td> 0.000</td> <td>-4.79e+04</td> <td>-4.01e+04</td>\n",
       "</tr>\n",
       "<tr>\n",
       "  <th>bathrooms</th>     <td> 4.661e+04</td> <td> 3380.063</td> <td>   13.789</td> <td> 0.000</td> <td>    4e+04</td> <td> 5.32e+04</td>\n",
       "</tr>\n",
       "<tr>\n",
       "  <th>sqft_living</th>   <td>  120.9847</td> <td>   18.856</td> <td>    6.416</td> <td> 0.000</td> <td>   84.026</td> <td>  157.944</td>\n",
       "</tr>\n",
       "<tr>\n",
       "  <th>sqft_lot</th>      <td>    0.1504</td> <td>    0.050</td> <td>    3.009</td> <td> 0.003</td> <td>    0.052</td> <td>    0.248</td>\n",
       "</tr>\n",
       "<tr>\n",
       "  <th>floors</th>        <td> 1.157e+04</td> <td> 3753.235</td> <td>    3.084</td> <td> 0.002</td> <td> 4217.135</td> <td> 1.89e+04</td>\n",
       "</tr>\n",
       "<tr>\n",
       "  <th>waterfront</th>    <td> 3.345e+05</td> <td> 1.17e+04</td> <td>   28.573</td> <td> 0.000</td> <td> 3.12e+05</td> <td> 3.57e+05</td>\n",
       "</tr>\n",
       "<tr>\n",
       "  <th>condition</th>     <td> 2.551e+04</td> <td> 2419.543</td> <td>   10.541</td> <td> 0.000</td> <td> 2.08e+04</td> <td> 3.02e+04</td>\n",
       "</tr>\n",
       "<tr>\n",
       "  <th>grade</th>         <td>  1.03e+05</td> <td> 2245.957</td> <td>   45.843</td> <td> 0.000</td> <td> 9.86e+04</td> <td> 1.07e+05</td>\n",
       "</tr>\n",
       "<tr>\n",
       "  <th>sqft_above</th>    <td>   61.7542</td> <td>   18.844</td> <td>    3.277</td> <td> 0.001</td> <td>   24.818</td> <td>   98.690</td>\n",
       "</tr>\n",
       "<tr>\n",
       "  <th>sqft_basement</th> <td>   53.9913</td> <td>   18.689</td> <td>    2.889</td> <td> 0.004</td> <td>   17.359</td> <td>   90.624</td>\n",
       "</tr>\n",
       "<tr>\n",
       "  <th>yr_built</th>      <td>-3010.8900</td> <td>   71.552</td> <td>  -42.080</td> <td> 0.000</td> <td>-3151.138</td> <td>-2870.642</td>\n",
       "</tr>\n",
       "<tr>\n",
       "  <th>zipcode</th>       <td> -496.1925</td> <td>   34.285</td> <td>  -14.472</td> <td> 0.000</td> <td> -563.394</td> <td> -428.991</td>\n",
       "</tr>\n",
       "<tr>\n",
       "  <th>lat</th>           <td> 5.576e+05</td> <td> 1.11e+04</td> <td>   50.045</td> <td> 0.000</td> <td> 5.36e+05</td> <td> 5.79e+05</td>\n",
       "</tr>\n",
       "<tr>\n",
       "  <th>long</th>          <td>-2.403e+05</td> <td> 1.37e+04</td> <td>  -17.534</td> <td> 0.000</td> <td>-2.67e+05</td> <td>-2.13e+05</td>\n",
       "</tr>\n",
       "<tr>\n",
       "  <th>sqft_living15</th> <td>   37.1172</td> <td>    3.552</td> <td>   10.449</td> <td> 0.000</td> <td>   30.155</td> <td>   44.080</td>\n",
       "</tr>\n",
       "<tr>\n",
       "  <th>sqft_lot15</th>    <td>   -0.3322</td> <td>    0.077</td> <td>   -4.339</td> <td> 0.000</td> <td>   -0.482</td> <td>   -0.182</td>\n",
       "</tr>\n",
       "</table>\n",
       "<table class=\"simpletable\">\n",
       "<tr>\n",
       "  <th>Omnibus:</th>       <td>18497.022</td> <th>  Durbin-Watson:     </th>  <td>   1.995</td>  \n",
       "</tr>\n",
       "<tr>\n",
       "  <th>Prob(Omnibus):</th>  <td> 0.000</td>   <th>  Jarque-Bera (JB):  </th> <td>1717265.107</td>\n",
       "</tr>\n",
       "<tr>\n",
       "  <th>Skew:</th>           <td> 3.641</td>   <th>  Prob(JB):          </th>  <td>    0.00</td>  \n",
       "</tr>\n",
       "<tr>\n",
       "  <th>Kurtosis:</th>       <td>46.073</td>   <th>  Cond. No.          </th>  <td>2.14e+08</td>  \n",
       "</tr>\n",
       "</table><br/><br/>Warnings:<br/>[1] Standard Errors assume that the covariance matrix of the errors is correctly specified.<br/>[2] The condition number is large, 2.14e+08. This might indicate that there are<br/>strong multicollinearity or other numerical problems."
      ],
      "text/plain": [
       "<class 'statsmodels.iolib.summary.Summary'>\n",
       "\"\"\"\n",
       "                            OLS Regression Results                            \n",
       "==============================================================================\n",
       "Dep. Variable:                  price   R-squared:                       0.673\n",
       "Model:                            OLS   Adj. R-squared:                  0.673\n",
       "Method:                 Least Squares   F-statistic:                     2779.\n",
       "Date:                Sun, 26 Jul 2020   Prob (F-statistic):               0.00\n",
       "Time:                        21:47:09   Log-Likelihood:            -2.9531e+05\n",
       "No. Observations:               21597   AIC:                         5.907e+05\n",
       "Df Residuals:                   21580   BIC:                         5.908e+05\n",
       "Df Model:                          16                                         \n",
       "Covariance Type:            nonrobust                                         \n",
       "=================================================================================\n",
       "                    coef    std err          t      P>|t|      [0.025      0.975]\n",
       "---------------------------------------------------------------------------------\n",
       "const         -2.051e+06   3.04e+06     -0.675      0.499      -8e+06     3.9e+06\n",
       "bedrooms        -4.4e+04   1973.406    -22.297      0.000   -4.79e+04   -4.01e+04\n",
       "bathrooms      4.661e+04   3380.063     13.789      0.000       4e+04    5.32e+04\n",
       "sqft_living     120.9847     18.856      6.416      0.000      84.026     157.944\n",
       "sqft_lot          0.1504      0.050      3.009      0.003       0.052       0.248\n",
       "floors         1.157e+04   3753.235      3.084      0.002    4217.135    1.89e+04\n",
       "waterfront     3.345e+05   1.17e+04     28.573      0.000    3.12e+05    3.57e+05\n",
       "condition      2.551e+04   2419.543     10.541      0.000    2.08e+04    3.02e+04\n",
       "grade           1.03e+05   2245.957     45.843      0.000    9.86e+04    1.07e+05\n",
       "sqft_above       61.7542     18.844      3.277      0.001      24.818      98.690\n",
       "sqft_basement    53.9913     18.689      2.889      0.004      17.359      90.624\n",
       "yr_built      -3010.8900     71.552    -42.080      0.000   -3151.138   -2870.642\n",
       "zipcode        -496.1925     34.285    -14.472      0.000    -563.394    -428.991\n",
       "lat            5.576e+05   1.11e+04     50.045      0.000    5.36e+05    5.79e+05\n",
       "long          -2.403e+05   1.37e+04    -17.534      0.000   -2.67e+05   -2.13e+05\n",
       "sqft_living15    37.1172      3.552     10.449      0.000      30.155      44.080\n",
       "sqft_lot15       -0.3322      0.077     -4.339      0.000      -0.482      -0.182\n",
       "==============================================================================\n",
       "Omnibus:                    18497.022   Durbin-Watson:                   1.995\n",
       "Prob(Omnibus):                  0.000   Jarque-Bera (JB):          1717265.107\n",
       "Skew:                           3.641   Prob(JB):                         0.00\n",
       "Kurtosis:                      46.073   Cond. No.                     2.14e+08\n",
       "==============================================================================\n",
       "\n",
       "Warnings:\n",
       "[1] Standard Errors assume that the covariance matrix of the errors is correctly specified.\n",
       "[2] The condition number is large, 2.14e+08. This might indicate that there are\n",
       "strong multicollinearity or other numerical problems.\n",
       "\"\"\""
      ]
     },
     "execution_count": 5,
     "metadata": {},
     "output_type": "execute_result"
    }
   ],
   "source": [
    "predictors = df.drop(['price', 'date', 'id'], axis= 1)\n",
    "predictors_int = sm.add_constant(predictors)\n",
    "model = sm.OLS(df['price'],predictors_int).fit()\n",
    "model.summary()"
   ]
  },
  {
   "cell_type": "code",
   "execution_count": 6,
   "metadata": {
    "ExecuteTime": {
     "end_time": "2020-07-27T01:47:09.406372Z",
     "start_time": "2020-07-27T01:47:09.396129Z"
    }
   },
   "outputs": [],
   "source": [
    "# Baseline model"
   ]
  },
  {
   "cell_type": "markdown",
   "metadata": {
    "ExecuteTime": {
     "end_time": "2020-07-20T20:27:11.685436Z",
     "start_time": "2020-07-20T20:27:11.647549Z"
    }
   },
   "source": [
    "# Remove outliers"
   ]
  },
  {
   "cell_type": "code",
   "execution_count": 7,
   "metadata": {
    "ExecuteTime": {
     "end_time": "2020-07-27T01:47:09.425969Z",
     "start_time": "2020-07-27T01:47:09.410874Z"
    }
   },
   "outputs": [],
   "source": [
    "df2=df.copy()"
   ]
  },
  {
   "cell_type": "code",
   "execution_count": 8,
   "metadata": {
    "ExecuteTime": {
     "end_time": "2020-07-27T01:47:10.085199Z",
     "start_time": "2020-07-27T01:47:09.425969Z"
    }
   },
   "outputs": [],
   "source": [
    "df2['month'] = [df2['date'][i][5:7] for i in range(len(df2['date']))]"
   ]
  },
  {
   "cell_type": "code",
   "execution_count": 9,
   "metadata": {
    "ExecuteTime": {
     "end_time": "2020-07-27T01:47:10.115880Z",
     "start_time": "2020-07-27T01:47:10.087400Z"
    }
   },
   "outputs": [],
   "source": [
    "df2['month']= df2['month'].astype(int)"
   ]
  },
  {
   "cell_type": "code",
   "execution_count": 10,
   "metadata": {
    "ExecuteTime": {
     "end_time": "2020-07-27T01:47:10.144613Z",
     "start_time": "2020-07-27T01:47:10.115880Z"
    }
   },
   "outputs": [],
   "source": [
    "df2.drop(['id', 'date'], axis=1, inplace=True)"
   ]
  },
  {
   "cell_type": "code",
   "execution_count": 11,
   "metadata": {
    "ExecuteTime": {
     "end_time": "2020-07-27T01:47:10.189405Z",
     "start_time": "2020-07-27T01:47:10.144613Z"
    }
   },
   "outputs": [],
   "source": [
    "from scipy import stats\n",
    "df2 = df2[(np.abs(stats.zscore(df2)) < 3).all(axis=1)]"
   ]
  },
  {
   "cell_type": "code",
   "execution_count": 12,
   "metadata": {
    "ExecuteTime": {
     "end_time": "2020-07-27T01:47:10.348826Z",
     "start_time": "2020-07-27T01:47:10.190288Z"
    }
   },
   "outputs": [
    {
     "data": {
      "text/html": [
       "<table class=\"simpletable\">\n",
       "<caption>OLS Regression Results</caption>\n",
       "<tr>\n",
       "  <th>Dep. Variable:</th>          <td>price</td>      <th>  R-squared:         </th>  <td>   0.682</td>  \n",
       "</tr>\n",
       "<tr>\n",
       "  <th>Model:</th>                   <td>OLS</td>       <th>  Adj. R-squared:    </th>  <td>   0.681</td>  \n",
       "</tr>\n",
       "<tr>\n",
       "  <th>Method:</th>             <td>Least Squares</td>  <th>  F-statistic:       </th>  <td>   2640.</td>  \n",
       "</tr>\n",
       "<tr>\n",
       "  <th>Date:</th>             <td>Sun, 26 Jul 2020</td> <th>  Prob (F-statistic):</th>   <td>  0.00</td>   \n",
       "</tr>\n",
       "<tr>\n",
       "  <th>Time:</th>                 <td>21:47:10</td>     <th>  Log-Likelihood:    </th> <td>-2.6152e+05</td>\n",
       "</tr>\n",
       "<tr>\n",
       "  <th>No. Observations:</th>      <td> 19736</td>      <th>  AIC:               </th>  <td>5.231e+05</td> \n",
       "</tr>\n",
       "<tr>\n",
       "  <th>Df Residuals:</th>          <td> 19719</td>      <th>  BIC:               </th>  <td>5.232e+05</td> \n",
       "</tr>\n",
       "<tr>\n",
       "  <th>Df Model:</th>              <td>    16</td>      <th>                     </th>      <td> </td>     \n",
       "</tr>\n",
       "<tr>\n",
       "  <th>Covariance Type:</th>      <td>nonrobust</td>    <th>                     </th>      <td> </td>     \n",
       "</tr>\n",
       "</table>\n",
       "<table class=\"simpletable\">\n",
       "<tr>\n",
       "        <td></td>           <th>coef</th>     <th>std err</th>      <th>t</th>      <th>P>|t|</th>  <th>[0.025</th>    <th>0.975]</th>  \n",
       "</tr>\n",
       "<tr>\n",
       "  <th>const</th>         <td>-6.947e+06</td> <td>  2.1e+06</td> <td>   -3.311</td> <td> 0.001</td> <td>-1.11e+07</td> <td>-2.83e+06</td>\n",
       "</tr>\n",
       "<tr>\n",
       "  <th>bedrooms</th>      <td>-1.839e+04</td> <td> 1496.086</td> <td>  -12.290</td> <td> 0.000</td> <td>-2.13e+04</td> <td>-1.55e+04</td>\n",
       "</tr>\n",
       "<tr>\n",
       "  <th>bathrooms</th>     <td> 3.228e+04</td> <td> 2450.031</td> <td>   13.176</td> <td> 0.000</td> <td> 2.75e+04</td> <td> 3.71e+04</td>\n",
       "</tr>\n",
       "<tr>\n",
       "  <th>sqft_living</th>   <td>   90.2420</td> <td>   13.908</td> <td>    6.488</td> <td> 0.000</td> <td>   62.981</td> <td>  117.503</td>\n",
       "</tr>\n",
       "<tr>\n",
       "  <th>sqft_lot</th>      <td>    0.2670</td> <td>    0.146</td> <td>    1.824</td> <td> 0.068</td> <td>   -0.020</td> <td>    0.554</td>\n",
       "</tr>\n",
       "<tr>\n",
       "  <th>floors</th>        <td> 3.127e+04</td> <td> 2670.023</td> <td>   11.712</td> <td> 0.000</td> <td>  2.6e+04</td> <td> 3.65e+04</td>\n",
       "</tr>\n",
       "<tr>\n",
       "  <th>waterfront</th>    <td> -8.45e-05</td> <td> 2.55e-05</td> <td>   -3.311</td> <td> 0.001</td> <td>   -0.000</td> <td>-3.45e-05</td>\n",
       "</tr>\n",
       "<tr>\n",
       "  <th>condition</th>     <td> 2.803e+04</td> <td> 1683.873</td> <td>   16.646</td> <td> 0.000</td> <td> 2.47e+04</td> <td> 3.13e+04</td>\n",
       "</tr>\n",
       "<tr>\n",
       "  <th>grade</th>         <td> 9.177e+04</td> <td> 1605.797</td> <td>   57.149</td> <td> 0.000</td> <td> 8.86e+04</td> <td> 9.49e+04</td>\n",
       "</tr>\n",
       "<tr>\n",
       "  <th>sqft_above</th>    <td>    5.9843</td> <td>   13.874</td> <td>    0.431</td> <td> 0.666</td> <td>  -21.211</td> <td>   33.179</td>\n",
       "</tr>\n",
       "<tr>\n",
       "  <th>sqft_basement</th> <td>   16.0182</td> <td>   13.767</td> <td>    1.164</td> <td> 0.245</td> <td>  -10.966</td> <td>   43.002</td>\n",
       "</tr>\n",
       "<tr>\n",
       "  <th>yr_built</th>      <td>-2397.5375</td> <td>   49.954</td> <td>  -47.995</td> <td> 0.000</td> <td>-2495.452</td> <td>-2299.623</td>\n",
       "</tr>\n",
       "<tr>\n",
       "  <th>zipcode</th>       <td> -308.3592</td> <td>   23.718</td> <td>  -13.001</td> <td> 0.000</td> <td> -354.849</td> <td> -261.869</td>\n",
       "</tr>\n",
       "<tr>\n",
       "  <th>lat</th>           <td> 5.514e+05</td> <td> 7615.123</td> <td>   72.409</td> <td> 0.000</td> <td> 5.36e+05</td> <td> 5.66e+05</td>\n",
       "</tr>\n",
       "<tr>\n",
       "  <th>long</th>          <td>-1.233e+05</td> <td> 1.07e+04</td> <td>  -11.548</td> <td> 0.000</td> <td>-1.44e+05</td> <td>-1.02e+05</td>\n",
       "</tr>\n",
       "<tr>\n",
       "  <th>sqft_living15</th> <td>   57.3465</td> <td>    2.726</td> <td>   21.039</td> <td> 0.000</td> <td>   52.004</td> <td>   62.689</td>\n",
       "</tr>\n",
       "<tr>\n",
       "  <th>sqft_lot15</th>    <td>   -1.4208</td> <td>    0.192</td> <td>   -7.419</td> <td> 0.000</td> <td>   -1.796</td> <td>   -1.045</td>\n",
       "</tr>\n",
       "<tr>\n",
       "  <th>month</th>         <td>-2774.7407</td> <td>  314.732</td> <td>   -8.816</td> <td> 0.000</td> <td>-3391.643</td> <td>-2157.839</td>\n",
       "</tr>\n",
       "</table>\n",
       "<table class=\"simpletable\">\n",
       "<tr>\n",
       "  <th>Omnibus:</th>       <td>4923.993</td> <th>  Durbin-Watson:     </th> <td>   1.961</td> \n",
       "</tr>\n",
       "<tr>\n",
       "  <th>Prob(Omnibus):</th>  <td> 0.000</td>  <th>  Jarque-Bera (JB):  </th> <td>19189.017</td>\n",
       "</tr>\n",
       "<tr>\n",
       "  <th>Skew:</th>           <td> 1.199</td>  <th>  Prob(JB):          </th> <td>    0.00</td> \n",
       "</tr>\n",
       "<tr>\n",
       "  <th>Kurtosis:</th>       <td> 7.193</td>  <th>  Cond. No.          </th> <td>2.06e+19</td> \n",
       "</tr>\n",
       "</table><br/><br/>Warnings:<br/>[1] Standard Errors assume that the covariance matrix of the errors is correctly specified.<br/>[2] The smallest eigenvalue is 4.57e-25. This might indicate that there are<br/>strong multicollinearity problems or that the design matrix is singular."
      ],
      "text/plain": [
       "<class 'statsmodels.iolib.summary.Summary'>\n",
       "\"\"\"\n",
       "                            OLS Regression Results                            \n",
       "==============================================================================\n",
       "Dep. Variable:                  price   R-squared:                       0.682\n",
       "Model:                            OLS   Adj. R-squared:                  0.681\n",
       "Method:                 Least Squares   F-statistic:                     2640.\n",
       "Date:                Sun, 26 Jul 2020   Prob (F-statistic):               0.00\n",
       "Time:                        21:47:10   Log-Likelihood:            -2.6152e+05\n",
       "No. Observations:               19736   AIC:                         5.231e+05\n",
       "Df Residuals:                   19719   BIC:                         5.232e+05\n",
       "Df Model:                          16                                         \n",
       "Covariance Type:            nonrobust                                         \n",
       "=================================================================================\n",
       "                    coef    std err          t      P>|t|      [0.025      0.975]\n",
       "---------------------------------------------------------------------------------\n",
       "const         -6.947e+06    2.1e+06     -3.311      0.001   -1.11e+07   -2.83e+06\n",
       "bedrooms      -1.839e+04   1496.086    -12.290      0.000   -2.13e+04   -1.55e+04\n",
       "bathrooms      3.228e+04   2450.031     13.176      0.000    2.75e+04    3.71e+04\n",
       "sqft_living      90.2420     13.908      6.488      0.000      62.981     117.503\n",
       "sqft_lot          0.2670      0.146      1.824      0.068      -0.020       0.554\n",
       "floors         3.127e+04   2670.023     11.712      0.000     2.6e+04    3.65e+04\n",
       "waterfront     -8.45e-05   2.55e-05     -3.311      0.001      -0.000   -3.45e-05\n",
       "condition      2.803e+04   1683.873     16.646      0.000    2.47e+04    3.13e+04\n",
       "grade          9.177e+04   1605.797     57.149      0.000    8.86e+04    9.49e+04\n",
       "sqft_above        5.9843     13.874      0.431      0.666     -21.211      33.179\n",
       "sqft_basement    16.0182     13.767      1.164      0.245     -10.966      43.002\n",
       "yr_built      -2397.5375     49.954    -47.995      0.000   -2495.452   -2299.623\n",
       "zipcode        -308.3592     23.718    -13.001      0.000    -354.849    -261.869\n",
       "lat            5.514e+05   7615.123     72.409      0.000    5.36e+05    5.66e+05\n",
       "long          -1.233e+05   1.07e+04    -11.548      0.000   -1.44e+05   -1.02e+05\n",
       "sqft_living15    57.3465      2.726     21.039      0.000      52.004      62.689\n",
       "sqft_lot15       -1.4208      0.192     -7.419      0.000      -1.796      -1.045\n",
       "month         -2774.7407    314.732     -8.816      0.000   -3391.643   -2157.839\n",
       "==============================================================================\n",
       "Omnibus:                     4923.993   Durbin-Watson:                   1.961\n",
       "Prob(Omnibus):                  0.000   Jarque-Bera (JB):            19189.017\n",
       "Skew:                           1.199   Prob(JB):                         0.00\n",
       "Kurtosis:                       7.193   Cond. No.                     2.06e+19\n",
       "==============================================================================\n",
       "\n",
       "Warnings:\n",
       "[1] Standard Errors assume that the covariance matrix of the errors is correctly specified.\n",
       "[2] The smallest eigenvalue is 4.57e-25. This might indicate that there are\n",
       "strong multicollinearity problems or that the design matrix is singular.\n",
       "\"\"\""
      ]
     },
     "execution_count": 12,
     "metadata": {},
     "output_type": "execute_result"
    }
   ],
   "source": [
    "predictors = df2.drop(['price'], axis= 1)\n",
    "predictors_int = sm.add_constant(predictors)\n",
    "model = sm.OLS(df2['price'],predictors_int).fit()\n",
    "model.summary()"
   ]
  },
  {
   "cell_type": "code",
   "execution_count": 13,
   "metadata": {
    "ExecuteTime": {
     "end_time": "2020-07-27T01:47:10.366693Z",
     "start_time": "2020-07-27T01:47:10.348826Z"
    }
   },
   "outputs": [],
   "source": [
    "# Removed outliers to better represent the sample"
   ]
  },
  {
   "cell_type": "markdown",
   "metadata": {},
   "source": [
    "# Dealing with categorical variables"
   ]
  },
  {
   "cell_type": "markdown",
   "metadata": {},
   "source": [
    "## Seperate houses based on location"
   ]
  },
  {
   "cell_type": "code",
   "execution_count": 14,
   "metadata": {
    "ExecuteTime": {
     "end_time": "2020-07-27T01:47:10.387607Z",
     "start_time": "2020-07-27T01:47:10.366693Z"
    }
   },
   "outputs": [],
   "source": [
    "df3= df2.copy()"
   ]
  },
  {
   "cell_type": "code",
   "execution_count": 15,
   "metadata": {
    "ExecuteTime": {
     "end_time": "2020-07-27T01:47:10.554138Z",
     "start_time": "2020-07-27T01:47:10.387607Z"
    }
   },
   "outputs": [],
   "source": [
    "df3.loc[(df3['lat'] > 47.5) & (df3['long'] < -122.25), 'NW'] =1\n",
    "\n",
    "df3.loc[(df3['lat'] > 47.5) & (df3['long'] >= -122.25) & (df['long'] <= -122.1), 'N'] =1\n",
    "\n",
    "df3.loc[(df3['lat'] > 47.5) & (df3['long'] > -122.1), 'NE'] =1\n",
    "\n",
    "df3.loc[(df3['lat'] <= 47.5) & (df3['long'] > -122.25), 'SW'] =1\n",
    "\n",
    "df3.loc[(df3['lat'] <= 47.5) & (df3['long'] >= -122.25) & (df['long'] <= -122.1), 'S'] =1\n",
    "\n",
    "df3.loc[(df3['lat'] <= 47.5) & (df3['long'] > -122.1), 'SE'] =1"
   ]
  },
  {
   "cell_type": "code",
   "execution_count": 16,
   "metadata": {
    "ExecuteTime": {
     "end_time": "2020-07-27T01:47:10.577263Z",
     "start_time": "2020-07-27T01:47:10.560643Z"
    }
   },
   "outputs": [],
   "source": [
    "df3.drop(['lat', 'long', 'zipcode', 'SE'] ,axis=1, inplace=True)"
   ]
  },
  {
   "cell_type": "code",
   "execution_count": 17,
   "metadata": {
    "ExecuteTime": {
     "end_time": "2020-07-27T01:47:10.603185Z",
     "start_time": "2020-07-27T01:47:10.577263Z"
    }
   },
   "outputs": [],
   "source": [
    "df3 = df3.fillna(0)"
   ]
  },
  {
   "cell_type": "markdown",
   "metadata": {},
   "source": [
    "## Create dummy variables for categorical columns "
   ]
  },
  {
   "cell_type": "code",
   "execution_count": 18,
   "metadata": {
    "ExecuteTime": {
     "end_time": "2020-07-27T01:47:10.629382Z",
     "start_time": "2020-07-27T01:47:10.606073Z"
    }
   },
   "outputs": [],
   "source": [
    "waterfront_dum = pd.get_dummies(df3.waterfront, prefix='waterfront', drop_first=True)\n",
    "condition_dum = pd.get_dummies(df3.condition, prefix = 'condition', drop_first=True)\n",
    "grade_dum = pd.get_dummies(df3.grade, prefix = 'grade', drop_first=True)"
   ]
  },
  {
   "cell_type": "code",
   "execution_count": 19,
   "metadata": {
    "ExecuteTime": {
     "end_time": "2020-07-27T01:47:10.654535Z",
     "start_time": "2020-07-27T01:47:10.629382Z"
    }
   },
   "outputs": [],
   "source": [
    "df3.drop(['waterfront', 'condition', 'grade'], axis=1, inplace= True)"
   ]
  },
  {
   "cell_type": "code",
   "execution_count": 20,
   "metadata": {
    "ExecuteTime": {
     "end_time": "2020-07-27T01:47:10.678172Z",
     "start_time": "2020-07-27T01:47:10.658937Z"
    }
   },
   "outputs": [],
   "source": [
    "df3 = pd.concat([df3, waterfront_dum, condition_dum, grade_dum], axis=1)"
   ]
  },
  {
   "cell_type": "code",
   "execution_count": 21,
   "metadata": {
    "ExecuteTime": {
     "end_time": "2020-07-27T01:47:10.713806Z",
     "start_time": "2020-07-27T01:47:10.678172Z"
    }
   },
   "outputs": [],
   "source": [
    "df3 = df3.rename(columns = {'waterfront_1.0':'waterfront_1'})"
   ]
  },
  {
   "cell_type": "code",
   "execution_count": 22,
   "metadata": {
    "ExecuteTime": {
     "end_time": "2020-07-27T01:47:10.924003Z",
     "start_time": "2020-07-27T01:47:10.724688Z"
    }
   },
   "outputs": [
    {
     "data": {
      "text/html": [
       "<table class=\"simpletable\">\n",
       "<caption>OLS Regression Results</caption>\n",
       "<tr>\n",
       "  <th>Dep. Variable:</th>          <td>price</td>      <th>  R-squared:         </th>  <td>   0.710</td>  \n",
       "</tr>\n",
       "<tr>\n",
       "  <th>Model:</th>                   <td>OLS</td>       <th>  Adj. R-squared:    </th>  <td>   0.710</td>  \n",
       "</tr>\n",
       "<tr>\n",
       "  <th>Method:</th>             <td>Least Squares</td>  <th>  F-statistic:       </th>  <td>   1933.</td>  \n",
       "</tr>\n",
       "<tr>\n",
       "  <th>Date:</th>             <td>Sun, 26 Jul 2020</td> <th>  Prob (F-statistic):</th>   <td>  0.00</td>   \n",
       "</tr>\n",
       "<tr>\n",
       "  <th>Time:</th>                 <td>21:47:10</td>     <th>  Log-Likelihood:    </th> <td>-2.6059e+05</td>\n",
       "</tr>\n",
       "<tr>\n",
       "  <th>No. Observations:</th>      <td> 19736</td>      <th>  AIC:               </th>  <td>5.212e+05</td> \n",
       "</tr>\n",
       "<tr>\n",
       "  <th>Df Residuals:</th>          <td> 19710</td>      <th>  BIC:               </th>  <td>5.214e+05</td> \n",
       "</tr>\n",
       "<tr>\n",
       "  <th>Df Model:</th>              <td>    25</td>      <th>                     </th>      <td> </td>     \n",
       "</tr>\n",
       "<tr>\n",
       "  <th>Covariance Type:</th>      <td>nonrobust</td>    <th>                     </th>      <td> </td>     \n",
       "</tr>\n",
       "</table>\n",
       "<table class=\"simpletable\">\n",
       "<tr>\n",
       "        <td></td>           <th>coef</th>     <th>std err</th>      <th>t</th>      <th>P>|t|</th>  <th>[0.025</th>    <th>0.975]</th>  \n",
       "</tr>\n",
       "<tr>\n",
       "  <th>const</th>         <td> 3.762e+06</td> <td> 9.72e+04</td> <td>   38.721</td> <td> 0.000</td> <td> 3.57e+06</td> <td> 3.95e+06</td>\n",
       "</tr>\n",
       "<tr>\n",
       "  <th>bedrooms</th>      <td> -1.28e+04</td> <td> 1453.057</td> <td>   -8.808</td> <td> 0.000</td> <td>-1.56e+04</td> <td>-9950.107</td>\n",
       "</tr>\n",
       "<tr>\n",
       "  <th>bathrooms</th>     <td> 3.306e+04</td> <td> 2356.673</td> <td>   14.030</td> <td> 0.000</td> <td> 2.84e+04</td> <td> 3.77e+04</td>\n",
       "</tr>\n",
       "<tr>\n",
       "  <th>sqft_living</th>   <td>   85.6968</td> <td>   13.278</td> <td>    6.454</td> <td> 0.000</td> <td>   59.671</td> <td>  111.722</td>\n",
       "</tr>\n",
       "<tr>\n",
       "  <th>sqft_lot</th>      <td>    0.5263</td> <td>    0.140</td> <td>    3.761</td> <td> 0.000</td> <td>    0.252</td> <td>    0.801</td>\n",
       "</tr>\n",
       "<tr>\n",
       "  <th>floors</th>        <td> 2.109e+04</td> <td> 2650.726</td> <td>    7.955</td> <td> 0.000</td> <td> 1.59e+04</td> <td> 2.63e+04</td>\n",
       "</tr>\n",
       "<tr>\n",
       "  <th>sqft_above</th>    <td>    9.3752</td> <td>   13.258</td> <td>    0.707</td> <td> 0.479</td> <td>  -16.612</td> <td>   35.362</td>\n",
       "</tr>\n",
       "<tr>\n",
       "  <th>sqft_basement</th> <td>   14.1500</td> <td>   13.141</td> <td>    1.077</td> <td> 0.282</td> <td>  -11.608</td> <td>   39.908</td>\n",
       "</tr>\n",
       "<tr>\n",
       "  <th>yr_built</th>      <td>-1977.8017</td> <td>   49.915</td> <td>  -39.624</td> <td> 0.000</td> <td>-2075.639</td> <td>-1879.965</td>\n",
       "</tr>\n",
       "<tr>\n",
       "  <th>sqft_living15</th> <td>   50.1982</td> <td>    2.630</td> <td>   19.087</td> <td> 0.000</td> <td>   45.043</td> <td>   55.353</td>\n",
       "</tr>\n",
       "<tr>\n",
       "  <th>sqft_lot15</th>    <td>   -0.9918</td> <td>    0.184</td> <td>   -5.388</td> <td> 0.000</td> <td>   -1.353</td> <td>   -0.631</td>\n",
       "</tr>\n",
       "<tr>\n",
       "  <th>month</th>         <td>-2785.6826</td> <td>  300.437</td> <td>   -9.272</td> <td> 0.000</td> <td>-3374.565</td> <td>-2196.800</td>\n",
       "</tr>\n",
       "<tr>\n",
       "  <th>NW</th>            <td> 1.991e+05</td> <td> 3450.254</td> <td>   57.701</td> <td> 0.000</td> <td> 1.92e+05</td> <td> 2.06e+05</td>\n",
       "</tr>\n",
       "<tr>\n",
       "  <th>N</th>             <td> 2.133e+05</td> <td> 3597.663</td> <td>   59.285</td> <td> 0.000</td> <td> 2.06e+05</td> <td>  2.2e+05</td>\n",
       "</tr>\n",
       "<tr>\n",
       "  <th>NE</th>            <td> 1.468e+05</td> <td> 4051.541</td> <td>   36.242</td> <td> 0.000</td> <td> 1.39e+05</td> <td> 1.55e+05</td>\n",
       "</tr>\n",
       "<tr>\n",
       "  <th>SW</th>            <td> 2.454e+04</td> <td> 4862.115</td> <td>    5.048</td> <td> 0.000</td> <td>  1.5e+04</td> <td> 3.41e+04</td>\n",
       "</tr>\n",
       "<tr>\n",
       "  <th>S</th>             <td>-2.555e+04</td> <td> 4736.678</td> <td>   -5.394</td> <td> 0.000</td> <td>-3.48e+04</td> <td>-1.63e+04</td>\n",
       "</tr>\n",
       "<tr>\n",
       "  <th>condition_3</th>   <td> 2.761e+04</td> <td>  1.1e+04</td> <td>    2.507</td> <td> 0.012</td> <td> 6022.054</td> <td> 4.92e+04</td>\n",
       "</tr>\n",
       "<tr>\n",
       "  <th>condition_4</th>   <td> 5.616e+04</td> <td> 1.11e+04</td> <td>    5.079</td> <td> 0.000</td> <td> 3.45e+04</td> <td> 7.78e+04</td>\n",
       "</tr>\n",
       "<tr>\n",
       "  <th>condition_5</th>   <td>  8.44e+04</td> <td> 1.14e+04</td> <td>    7.386</td> <td> 0.000</td> <td>  6.2e+04</td> <td> 1.07e+05</td>\n",
       "</tr>\n",
       "<tr>\n",
       "  <th>grade_6</th>       <td> 2.193e+04</td> <td> 9643.401</td> <td>    2.274</td> <td> 0.023</td> <td> 3025.063</td> <td> 4.08e+04</td>\n",
       "</tr>\n",
       "<tr>\n",
       "  <th>grade_7</th>       <td> 8.043e+04</td> <td> 9468.406</td> <td>    8.494</td> <td> 0.000</td> <td> 6.19e+04</td> <td>  9.9e+04</td>\n",
       "</tr>\n",
       "<tr>\n",
       "  <th>grade_8</th>       <td> 1.568e+05</td> <td> 9835.238</td> <td>   15.946</td> <td> 0.000</td> <td> 1.38e+05</td> <td> 1.76e+05</td>\n",
       "</tr>\n",
       "<tr>\n",
       "  <th>grade_9</th>       <td> 2.747e+05</td> <td> 1.05e+04</td> <td>   26.066</td> <td> 0.000</td> <td> 2.54e+05</td> <td> 2.95e+05</td>\n",
       "</tr>\n",
       "<tr>\n",
       "  <th>grade_10</th>      <td> 3.757e+05</td> <td> 1.16e+04</td> <td>   32.391</td> <td> 0.000</td> <td> 3.53e+05</td> <td> 3.98e+05</td>\n",
       "</tr>\n",
       "<tr>\n",
       "  <th>grade_11</th>      <td> 4.612e+05</td> <td> 1.56e+04</td> <td>   29.481</td> <td> 0.000</td> <td> 4.31e+05</td> <td> 4.92e+05</td>\n",
       "</tr>\n",
       "</table>\n",
       "<table class=\"simpletable\">\n",
       "<tr>\n",
       "  <th>Omnibus:</th>       <td>5024.796</td> <th>  Durbin-Watson:     </th> <td>   1.963</td> \n",
       "</tr>\n",
       "<tr>\n",
       "  <th>Prob(Omnibus):</th>  <td> 0.000</td>  <th>  Jarque-Bera (JB):  </th> <td>21106.052</td>\n",
       "</tr>\n",
       "<tr>\n",
       "  <th>Skew:</th>           <td> 1.200</td>  <th>  Prob(JB):          </th> <td>    0.00</td> \n",
       "</tr>\n",
       "<tr>\n",
       "  <th>Kurtosis:</th>       <td> 7.462</td>  <th>  Cond. No.          </th> <td>2.04e+06</td> \n",
       "</tr>\n",
       "</table><br/><br/>Warnings:<br/>[1] Standard Errors assume that the covariance matrix of the errors is correctly specified.<br/>[2] The condition number is large, 2.04e+06. This might indicate that there are<br/>strong multicollinearity or other numerical problems."
      ],
      "text/plain": [
       "<class 'statsmodels.iolib.summary.Summary'>\n",
       "\"\"\"\n",
       "                            OLS Regression Results                            \n",
       "==============================================================================\n",
       "Dep. Variable:                  price   R-squared:                       0.710\n",
       "Model:                            OLS   Adj. R-squared:                  0.710\n",
       "Method:                 Least Squares   F-statistic:                     1933.\n",
       "Date:                Sun, 26 Jul 2020   Prob (F-statistic):               0.00\n",
       "Time:                        21:47:10   Log-Likelihood:            -2.6059e+05\n",
       "No. Observations:               19736   AIC:                         5.212e+05\n",
       "Df Residuals:                   19710   BIC:                         5.214e+05\n",
       "Df Model:                          25                                         \n",
       "Covariance Type:            nonrobust                                         \n",
       "=================================================================================\n",
       "                    coef    std err          t      P>|t|      [0.025      0.975]\n",
       "---------------------------------------------------------------------------------\n",
       "const          3.762e+06   9.72e+04     38.721      0.000    3.57e+06    3.95e+06\n",
       "bedrooms       -1.28e+04   1453.057     -8.808      0.000   -1.56e+04   -9950.107\n",
       "bathrooms      3.306e+04   2356.673     14.030      0.000    2.84e+04    3.77e+04\n",
       "sqft_living      85.6968     13.278      6.454      0.000      59.671     111.722\n",
       "sqft_lot          0.5263      0.140      3.761      0.000       0.252       0.801\n",
       "floors         2.109e+04   2650.726      7.955      0.000    1.59e+04    2.63e+04\n",
       "sqft_above        9.3752     13.258      0.707      0.479     -16.612      35.362\n",
       "sqft_basement    14.1500     13.141      1.077      0.282     -11.608      39.908\n",
       "yr_built      -1977.8017     49.915    -39.624      0.000   -2075.639   -1879.965\n",
       "sqft_living15    50.1982      2.630     19.087      0.000      45.043      55.353\n",
       "sqft_lot15       -0.9918      0.184     -5.388      0.000      -1.353      -0.631\n",
       "month         -2785.6826    300.437     -9.272      0.000   -3374.565   -2196.800\n",
       "NW             1.991e+05   3450.254     57.701      0.000    1.92e+05    2.06e+05\n",
       "N              2.133e+05   3597.663     59.285      0.000    2.06e+05     2.2e+05\n",
       "NE             1.468e+05   4051.541     36.242      0.000    1.39e+05    1.55e+05\n",
       "SW             2.454e+04   4862.115      5.048      0.000     1.5e+04    3.41e+04\n",
       "S             -2.555e+04   4736.678     -5.394      0.000   -3.48e+04   -1.63e+04\n",
       "condition_3    2.761e+04    1.1e+04      2.507      0.012    6022.054    4.92e+04\n",
       "condition_4    5.616e+04   1.11e+04      5.079      0.000    3.45e+04    7.78e+04\n",
       "condition_5     8.44e+04   1.14e+04      7.386      0.000     6.2e+04    1.07e+05\n",
       "grade_6        2.193e+04   9643.401      2.274      0.023    3025.063    4.08e+04\n",
       "grade_7        8.043e+04   9468.406      8.494      0.000    6.19e+04     9.9e+04\n",
       "grade_8        1.568e+05   9835.238     15.946      0.000    1.38e+05    1.76e+05\n",
       "grade_9        2.747e+05   1.05e+04     26.066      0.000    2.54e+05    2.95e+05\n",
       "grade_10       3.757e+05   1.16e+04     32.391      0.000    3.53e+05    3.98e+05\n",
       "grade_11       4.612e+05   1.56e+04     29.481      0.000    4.31e+05    4.92e+05\n",
       "==============================================================================\n",
       "Omnibus:                     5024.796   Durbin-Watson:                   1.963\n",
       "Prob(Omnibus):                  0.000   Jarque-Bera (JB):            21106.052\n",
       "Skew:                           1.200   Prob(JB):                         0.00\n",
       "Kurtosis:                       7.462   Cond. No.                     2.04e+06\n",
       "==============================================================================\n",
       "\n",
       "Warnings:\n",
       "[1] Standard Errors assume that the covariance matrix of the errors is correctly specified.\n",
       "[2] The condition number is large, 2.04e+06. This might indicate that there are\n",
       "strong multicollinearity or other numerical problems.\n",
       "\"\"\""
      ]
     },
     "execution_count": 22,
     "metadata": {},
     "output_type": "execute_result"
    }
   ],
   "source": [
    "predictors = df3.drop(['price'], axis= 1)\n",
    "predictors_int = sm.add_constant(predictors)\n",
    "model = sm.OLS(df3['price'],predictors_int).fit()\n",
    "model.summary()"
   ]
  },
  {
   "cell_type": "code",
   "execution_count": 23,
   "metadata": {
    "ExecuteTime": {
     "end_time": "2020-07-27T01:47:10.933859Z",
     "start_time": "2020-07-27T01:47:10.929513Z"
    }
   },
   "outputs": [],
   "source": [
    "# Took the catagorical predictors and sepereted them into binary dummy variables"
   ]
  },
  {
   "cell_type": "markdown",
   "metadata": {
    "ExecuteTime": {
     "end_time": "2020-07-21T17:11:12.857320Z",
     "start_time": "2020-07-21T17:11:07.722Z"
    }
   },
   "source": [
    "# Drop non significant values"
   ]
  },
  {
   "cell_type": "markdown",
   "metadata": {
    "ExecuteTime": {
     "end_time": "2020-07-21T20:39:12.735053Z",
     "start_time": "2020-07-21T20:39:12.728567Z"
    }
   },
   "source": [
    "## Make sqft_basement a catagorical value"
   ]
  },
  {
   "cell_type": "code",
   "execution_count": 24,
   "metadata": {
    "ExecuteTime": {
     "end_time": "2020-07-27T01:47:10.955594Z",
     "start_time": "2020-07-27T01:47:10.936098Z"
    }
   },
   "outputs": [],
   "source": [
    "df4 = df3.copy()"
   ]
  },
  {
   "cell_type": "code",
   "execution_count": 25,
   "metadata": {
    "ExecuteTime": {
     "end_time": "2020-07-27T01:47:10.979891Z",
     "start_time": "2020-07-27T01:47:10.956094Z"
    }
   },
   "outputs": [],
   "source": [
    "df4.loc[df4['sqft_basement'] > 0, 'basement_present'] = 1"
   ]
  },
  {
   "cell_type": "code",
   "execution_count": 26,
   "metadata": {
    "ExecuteTime": {
     "end_time": "2020-07-27T01:47:11.003939Z",
     "start_time": "2020-07-27T01:47:10.984009Z"
    }
   },
   "outputs": [],
   "source": [
    "df4 = df4.fillna(0)"
   ]
  },
  {
   "cell_type": "markdown",
   "metadata": {
    "ExecuteTime": {
     "end_time": "2020-07-21T20:44:29.540873Z",
     "start_time": "2020-07-21T20:44:29.537833Z"
    }
   },
   "source": [
    "## Drop Values"
   ]
  },
  {
   "cell_type": "code",
   "execution_count": 27,
   "metadata": {
    "ExecuteTime": {
     "end_time": "2020-07-27T01:47:11.029605Z",
     "start_time": "2020-07-27T01:47:11.007990Z"
    }
   },
   "outputs": [],
   "source": [
    "df4.drop(['sqft_above', 'sqft_basement'], axis=1, inplace=True)"
   ]
  },
  {
   "cell_type": "code",
   "execution_count": 28,
   "metadata": {
    "ExecuteTime": {
     "end_time": "2020-07-27T01:47:11.215084Z",
     "start_time": "2020-07-27T01:47:11.033409Z"
    }
   },
   "outputs": [
    {
     "data": {
      "text/html": [
       "<table class=\"simpletable\">\n",
       "<caption>OLS Regression Results</caption>\n",
       "<tr>\n",
       "  <th>Dep. Variable:</th>          <td>price</td>      <th>  R-squared:         </th>  <td>   0.710</td>  \n",
       "</tr>\n",
       "<tr>\n",
       "  <th>Model:</th>                   <td>OLS</td>       <th>  Adj. R-squared:    </th>  <td>   0.710</td>  \n",
       "</tr>\n",
       "<tr>\n",
       "  <th>Method:</th>             <td>Least Squares</td>  <th>  F-statistic:       </th>  <td>   2015.</td>  \n",
       "</tr>\n",
       "<tr>\n",
       "  <th>Date:</th>             <td>Sun, 26 Jul 2020</td> <th>  Prob (F-statistic):</th>   <td>  0.00</td>   \n",
       "</tr>\n",
       "<tr>\n",
       "  <th>Time:</th>                 <td>21:47:11</td>     <th>  Log-Likelihood:    </th> <td>-2.6059e+05</td>\n",
       "</tr>\n",
       "<tr>\n",
       "  <th>No. Observations:</th>      <td> 19736</td>      <th>  AIC:               </th>  <td>5.212e+05</td> \n",
       "</tr>\n",
       "<tr>\n",
       "  <th>Df Residuals:</th>          <td> 19711</td>      <th>  BIC:               </th>  <td>5.214e+05</td> \n",
       "</tr>\n",
       "<tr>\n",
       "  <th>Df Model:</th>              <td>    24</td>      <th>                     </th>      <td> </td>     \n",
       "</tr>\n",
       "<tr>\n",
       "  <th>Covariance Type:</th>      <td>nonrobust</td>    <th>                     </th>      <td> </td>     \n",
       "</tr>\n",
       "</table>\n",
       "<table class=\"simpletable\">\n",
       "<tr>\n",
       "          <td></td>            <th>coef</th>     <th>std err</th>      <th>t</th>      <th>P>|t|</th>  <th>[0.025</th>    <th>0.975]</th>  \n",
       "</tr>\n",
       "<tr>\n",
       "  <th>const</th>            <td> 3.762e+06</td> <td> 9.71e+04</td> <td>   38.734</td> <td> 0.000</td> <td> 3.57e+06</td> <td> 3.95e+06</td>\n",
       "</tr>\n",
       "<tr>\n",
       "  <th>bedrooms</th>         <td>-1.261e+04</td> <td> 1453.346</td> <td>   -8.677</td> <td> 0.000</td> <td>-1.55e+04</td> <td>-9761.605</td>\n",
       "</tr>\n",
       "<tr>\n",
       "  <th>bathrooms</th>        <td> 3.169e+04</td> <td> 2365.054</td> <td>   13.400</td> <td> 0.000</td> <td> 2.71e+04</td> <td> 3.63e+04</td>\n",
       "</tr>\n",
       "<tr>\n",
       "  <th>sqft_living</th>      <td>   94.2045</td> <td>    2.733</td> <td>   34.473</td> <td> 0.000</td> <td>   88.848</td> <td>   99.561</td>\n",
       "</tr>\n",
       "<tr>\n",
       "  <th>sqft_lot</th>         <td>    0.5280</td> <td>    0.140</td> <td>    3.775</td> <td> 0.000</td> <td>    0.254</td> <td>    0.802</td>\n",
       "</tr>\n",
       "<tr>\n",
       "  <th>floors</th>           <td> 2.356e+04</td> <td> 2536.731</td> <td>    9.288</td> <td> 0.000</td> <td> 1.86e+04</td> <td> 2.85e+04</td>\n",
       "</tr>\n",
       "<tr>\n",
       "  <th>yr_built</th>         <td>-1978.7454</td> <td>   49.896</td> <td>  -39.657</td> <td> 0.000</td> <td>-2076.547</td> <td>-1880.944</td>\n",
       "</tr>\n",
       "<tr>\n",
       "  <th>sqft_living15</th>    <td>   50.5539</td> <td>    2.615</td> <td>   19.330</td> <td> 0.000</td> <td>   45.428</td> <td>   55.680</td>\n",
       "</tr>\n",
       "<tr>\n",
       "  <th>sqft_lot15</th>       <td>   -0.9798</td> <td>    0.184</td> <td>   -5.324</td> <td> 0.000</td> <td>   -1.340</td> <td>   -0.619</td>\n",
       "</tr>\n",
       "<tr>\n",
       "  <th>month</th>            <td>-2786.4403</td> <td>  300.300</td> <td>   -9.279</td> <td> 0.000</td> <td>-3375.053</td> <td>-2197.828</td>\n",
       "</tr>\n",
       "<tr>\n",
       "  <th>NW</th>               <td> 1.974e+05</td> <td> 3452.230</td> <td>   57.170</td> <td> 0.000</td> <td> 1.91e+05</td> <td> 2.04e+05</td>\n",
       "</tr>\n",
       "<tr>\n",
       "  <th>N</th>                <td> 2.135e+05</td> <td> 3596.415</td> <td>   59.361</td> <td> 0.000</td> <td> 2.06e+05</td> <td> 2.21e+05</td>\n",
       "</tr>\n",
       "<tr>\n",
       "  <th>NE</th>               <td> 1.476e+05</td> <td> 4047.613</td> <td>   36.475</td> <td> 0.000</td> <td>  1.4e+05</td> <td> 1.56e+05</td>\n",
       "</tr>\n",
       "<tr>\n",
       "  <th>SW</th>               <td> 2.552e+04</td> <td> 4863.674</td> <td>    5.248</td> <td> 0.000</td> <td>  1.6e+04</td> <td> 3.51e+04</td>\n",
       "</tr>\n",
       "<tr>\n",
       "  <th>S</th>                <td>-2.581e+04</td> <td> 4735.386</td> <td>   -5.450</td> <td> 0.000</td> <td>-3.51e+04</td> <td>-1.65e+04</td>\n",
       "</tr>\n",
       "<tr>\n",
       "  <th>condition_3</th>      <td> 2.794e+04</td> <td>  1.1e+04</td> <td>    2.539</td> <td> 0.011</td> <td> 6367.898</td> <td> 4.95e+04</td>\n",
       "</tr>\n",
       "<tr>\n",
       "  <th>condition_4</th>      <td> 5.637e+04</td> <td> 1.11e+04</td> <td>    5.101</td> <td> 0.000</td> <td> 3.47e+04</td> <td>  7.8e+04</td>\n",
       "</tr>\n",
       "<tr>\n",
       "  <th>condition_5</th>      <td> 8.481e+04</td> <td> 1.14e+04</td> <td>    7.427</td> <td> 0.000</td> <td> 6.24e+04</td> <td> 1.07e+05</td>\n",
       "</tr>\n",
       "<tr>\n",
       "  <th>grade_6</th>          <td> 2.151e+04</td> <td> 9639.063</td> <td>    2.231</td> <td> 0.026</td> <td> 2615.306</td> <td> 4.04e+04</td>\n",
       "</tr>\n",
       "<tr>\n",
       "  <th>grade_7</th>          <td>  7.92e+04</td> <td> 9468.855</td> <td>    8.364</td> <td> 0.000</td> <td> 6.06e+04</td> <td> 9.78e+04</td>\n",
       "</tr>\n",
       "<tr>\n",
       "  <th>grade_8</th>          <td> 1.555e+05</td> <td> 9834.945</td> <td>   15.813</td> <td> 0.000</td> <td> 1.36e+05</td> <td> 1.75e+05</td>\n",
       "</tr>\n",
       "<tr>\n",
       "  <th>grade_9</th>          <td> 2.741e+05</td> <td> 1.05e+04</td> <td>   26.067</td> <td> 0.000</td> <td> 2.53e+05</td> <td> 2.95e+05</td>\n",
       "</tr>\n",
       "<tr>\n",
       "  <th>grade_10</th>         <td> 3.755e+05</td> <td> 1.16e+04</td> <td>   32.487</td> <td> 0.000</td> <td> 3.53e+05</td> <td> 3.98e+05</td>\n",
       "</tr>\n",
       "<tr>\n",
       "  <th>grade_11</th>         <td> 4.614e+05</td> <td> 1.56e+04</td> <td>   29.588</td> <td> 0.000</td> <td> 4.31e+05</td> <td> 4.92e+05</td>\n",
       "</tr>\n",
       "<tr>\n",
       "  <th>basement_present</th> <td> 9730.5564</td> <td> 2377.795</td> <td>    4.092</td> <td> 0.000</td> <td> 5069.879</td> <td> 1.44e+04</td>\n",
       "</tr>\n",
       "</table>\n",
       "<table class=\"simpletable\">\n",
       "<tr>\n",
       "  <th>Omnibus:</th>       <td>5041.373</td> <th>  Durbin-Watson:     </th> <td>   1.964</td> \n",
       "</tr>\n",
       "<tr>\n",
       "  <th>Prob(Omnibus):</th>  <td> 0.000</td>  <th>  Jarque-Bera (JB):  </th> <td>21261.807</td>\n",
       "</tr>\n",
       "<tr>\n",
       "  <th>Skew:</th>           <td> 1.202</td>  <th>  Prob(JB):          </th> <td>    0.00</td> \n",
       "</tr>\n",
       "<tr>\n",
       "  <th>Kurtosis:</th>       <td> 7.480</td>  <th>  Cond. No.          </th> <td>2.03e+06</td> \n",
       "</tr>\n",
       "</table><br/><br/>Warnings:<br/>[1] Standard Errors assume that the covariance matrix of the errors is correctly specified.<br/>[2] The condition number is large, 2.03e+06. This might indicate that there are<br/>strong multicollinearity or other numerical problems."
      ],
      "text/plain": [
       "<class 'statsmodels.iolib.summary.Summary'>\n",
       "\"\"\"\n",
       "                            OLS Regression Results                            \n",
       "==============================================================================\n",
       "Dep. Variable:                  price   R-squared:                       0.710\n",
       "Model:                            OLS   Adj. R-squared:                  0.710\n",
       "Method:                 Least Squares   F-statistic:                     2015.\n",
       "Date:                Sun, 26 Jul 2020   Prob (F-statistic):               0.00\n",
       "Time:                        21:47:11   Log-Likelihood:            -2.6059e+05\n",
       "No. Observations:               19736   AIC:                         5.212e+05\n",
       "Df Residuals:                   19711   BIC:                         5.214e+05\n",
       "Df Model:                          24                                         \n",
       "Covariance Type:            nonrobust                                         \n",
       "====================================================================================\n",
       "                       coef    std err          t      P>|t|      [0.025      0.975]\n",
       "------------------------------------------------------------------------------------\n",
       "const             3.762e+06   9.71e+04     38.734      0.000    3.57e+06    3.95e+06\n",
       "bedrooms         -1.261e+04   1453.346     -8.677      0.000   -1.55e+04   -9761.605\n",
       "bathrooms         3.169e+04   2365.054     13.400      0.000    2.71e+04    3.63e+04\n",
       "sqft_living         94.2045      2.733     34.473      0.000      88.848      99.561\n",
       "sqft_lot             0.5280      0.140      3.775      0.000       0.254       0.802\n",
       "floors            2.356e+04   2536.731      9.288      0.000    1.86e+04    2.85e+04\n",
       "yr_built         -1978.7454     49.896    -39.657      0.000   -2076.547   -1880.944\n",
       "sqft_living15       50.5539      2.615     19.330      0.000      45.428      55.680\n",
       "sqft_lot15          -0.9798      0.184     -5.324      0.000      -1.340      -0.619\n",
       "month            -2786.4403    300.300     -9.279      0.000   -3375.053   -2197.828\n",
       "NW                1.974e+05   3452.230     57.170      0.000    1.91e+05    2.04e+05\n",
       "N                 2.135e+05   3596.415     59.361      0.000    2.06e+05    2.21e+05\n",
       "NE                1.476e+05   4047.613     36.475      0.000     1.4e+05    1.56e+05\n",
       "SW                2.552e+04   4863.674      5.248      0.000     1.6e+04    3.51e+04\n",
       "S                -2.581e+04   4735.386     -5.450      0.000   -3.51e+04   -1.65e+04\n",
       "condition_3       2.794e+04    1.1e+04      2.539      0.011    6367.898    4.95e+04\n",
       "condition_4       5.637e+04   1.11e+04      5.101      0.000    3.47e+04     7.8e+04\n",
       "condition_5       8.481e+04   1.14e+04      7.427      0.000    6.24e+04    1.07e+05\n",
       "grade_6           2.151e+04   9639.063      2.231      0.026    2615.306    4.04e+04\n",
       "grade_7            7.92e+04   9468.855      8.364      0.000    6.06e+04    9.78e+04\n",
       "grade_8           1.555e+05   9834.945     15.813      0.000    1.36e+05    1.75e+05\n",
       "grade_9           2.741e+05   1.05e+04     26.067      0.000    2.53e+05    2.95e+05\n",
       "grade_10          3.755e+05   1.16e+04     32.487      0.000    3.53e+05    3.98e+05\n",
       "grade_11          4.614e+05   1.56e+04     29.588      0.000    4.31e+05    4.92e+05\n",
       "basement_present  9730.5564   2377.795      4.092      0.000    5069.879    1.44e+04\n",
       "==============================================================================\n",
       "Omnibus:                     5041.373   Durbin-Watson:                   1.964\n",
       "Prob(Omnibus):                  0.000   Jarque-Bera (JB):            21261.807\n",
       "Skew:                           1.202   Prob(JB):                         0.00\n",
       "Kurtosis:                       7.480   Cond. No.                     2.03e+06\n",
       "==============================================================================\n",
       "\n",
       "Warnings:\n",
       "[1] Standard Errors assume that the covariance matrix of the errors is correctly specified.\n",
       "[2] The condition number is large, 2.03e+06. This might indicate that there are\n",
       "strong multicollinearity or other numerical problems.\n",
       "\"\"\""
      ]
     },
     "execution_count": 28,
     "metadata": {},
     "output_type": "execute_result"
    }
   ],
   "source": [
    "predictors = df4.drop(['price'], axis= 1)\n",
    "predictors_int = sm.add_constant(predictors)\n",
    "model = sm.OLS(df4['price'],predictors_int).fit()\n",
    "model.summary()"
   ]
  },
  {
   "cell_type": "code",
   "execution_count": 29,
   "metadata": {
    "ExecuteTime": {
     "end_time": "2020-07-27T01:47:11.230231Z",
     "start_time": "2020-07-27T01:47:11.219210Z"
    }
   },
   "outputs": [],
   "source": [
    "# Turned basement into a a binary variable and dropped any predictor that had \n",
    "# a P-value < 0.05. This is the final iteration of the model which showed an \n",
    "# ovarall improvement of R2 from the baseline by 0.034"
   ]
  },
  {
   "cell_type": "markdown",
   "metadata": {
    "ExecuteTime": {
     "end_time": "2020-07-21T21:07:38.317786Z",
     "start_time": "2020-07-21T21:07:38.310048Z"
    }
   },
   "source": [
    "# Sepertate data for training and testing"
   ]
  },
  {
   "cell_type": "code",
   "execution_count": 30,
   "metadata": {
    "ExecuteTime": {
     "end_time": "2020-07-27T01:47:11.523418Z",
     "start_time": "2020-07-27T01:47:11.233516Z"
    }
   },
   "outputs": [],
   "source": [
    "from sklearn.model_selection import train_test_split\n",
    "from sklearn.linear_model import LinearRegression\n",
    "from sklearn.model_selection import cross_val_predict"
   ]
  },
  {
   "cell_type": "code",
   "execution_count": 31,
   "metadata": {
    "ExecuteTime": {
     "end_time": "2020-07-27T01:47:11.602414Z",
     "start_time": "2020-07-27T01:47:11.525362Z"
    }
   },
   "outputs": [
    {
     "name": "stdout",
     "output_type": "stream",
     "text": [
      "Train Mean Squarred Error: 17448612983.560204\n",
      "Test Mean Squarred Error: 16345918232.736198\n"
     ]
    }
   ],
   "source": [
    "y = df4['price']\n",
    "X = predictors\n",
    "\n",
    "X_train, X_test, y_train, y_test = train_test_split(X, y, test_size = 0.2)\n",
    "\n",
    "linreg = LinearRegression()\n",
    "linreg.fit(X_train, y_train)\n",
    "\n",
    "y_hat_train = linreg.predict(X_train)\n",
    "y_hat_test = linreg.predict(X_test)\n",
    "\n",
    "mse_train = np.sum((y_train-y_hat_train)**2)/len(y_train)\n",
    "mse_test =np.sum((y_test-y_hat_test)**2)/len(y_test)\n",
    "print('Train Mean Squarred Error:', mse_train)\n",
    "print('Test Mean Squarred Error:', mse_test)"
   ]
  },
  {
   "cell_type": "code",
   "execution_count": 35,
   "metadata": {
    "ExecuteTime": {
     "end_time": "2020-07-27T01:47:40.210923Z",
     "start_time": "2020-07-27T01:47:40.189206Z"
    }
   },
   "outputs": [
    {
     "name": "stdout",
     "output_type": "stream",
     "text": [
      "Train RMSE: 132093.1980972533\n",
      "Test RMSE: 127851.15655611489\n"
     ]
    }
   ],
   "source": [
    "print('Train RMSE:', np.sqrt(mse_train))\n",
    "print('Test RMSE:', np.sqrt(mse_test))"
   ]
  },
  {
   "cell_type": "code",
   "execution_count": null,
   "metadata": {},
   "outputs": [],
   "source": []
  }
 ],
 "metadata": {
  "kernelspec": {
   "display_name": "Python 3",
   "language": "python",
   "name": "python3"
  },
  "language_info": {
   "codemirror_mode": {
    "name": "ipython",
    "version": 3
   },
   "file_extension": ".py",
   "mimetype": "text/x-python",
   "name": "python",
   "nbconvert_exporter": "python",
   "pygments_lexer": "ipython3",
   "version": "3.6.9"
  },
  "toc": {
   "base_numbering": 1,
   "nav_menu": {},
   "number_sections": true,
   "sideBar": true,
   "skip_h1_title": false,
   "title_cell": "Table of Contents",
   "title_sidebar": "Contents",
   "toc_cell": false,
   "toc_position": {
    "height": "calc(100% - 180px)",
    "left": "10px",
    "top": "150px",
    "width": "300.792px"
   },
   "toc_section_display": true,
   "toc_window_display": true
  },
  "varInspector": {
   "cols": {
    "lenName": 16,
    "lenType": 16,
    "lenVar": 40
   },
   "kernels_config": {
    "python": {
     "delete_cmd_postfix": "",
     "delete_cmd_prefix": "del ",
     "library": "var_list.py",
     "varRefreshCmd": "print(var_dic_list())"
    },
    "r": {
     "delete_cmd_postfix": ") ",
     "delete_cmd_prefix": "rm(",
     "library": "var_list.r",
     "varRefreshCmd": "cat(var_dic_list()) "
    }
   },
   "types_to_exclude": [
    "module",
    "function",
    "builtin_function_or_method",
    "instance",
    "_Feature"
   ],
   "window_display": false
  }
 },
 "nbformat": 4,
 "nbformat_minor": 2
}
